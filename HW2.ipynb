{
 "cells": [
  {
   "cell_type": "code",
   "execution_count": 93,
   "metadata": {},
   "outputs": [
    {
     "name": "stdout",
     "output_type": "stream",
     "text": [
      "Populating the interactive namespace from numpy and matplotlib\n"
     ]
    }
   ],
   "source": [
    "from pandas import Series, DataFrame\n",
    "import pandas as pd\n",
    "import math\n",
    "%pylab inline"
   ]
  },
  {
   "cell_type": "code",
   "execution_count": 6,
   "metadata": {},
   "outputs": [
    {
     "data": {
      "text/plain": [
       "array(['Unnamed: 0', 'CAMIS', 'DBA', 'BORO', 'BUILDING', 'STREET',\n",
       "       'ZIPCODE', 'PHONE', 'CUISINE DESCRIPTION', 'INSPECTION DATE',\n",
       "       'ACTION', 'VIOLATION CODE', 'VIOLATION DESCRIPTION',\n",
       "       'CRITICAL FLAG', 'SCORE', 'GRADE', 'GRADE DATE', 'RECORD DATE',\n",
       "       'INSPECTION TYPE'], dtype=object)"
      ]
     },
     "execution_count": 6,
     "metadata": {},
     "output_type": "execute_result"
    }
   ],
   "source": [
    "df = pd.read_csv('NYC_Restaurants.csv', dtype=unicode)\n",
    "df.columns.values"
   ]
  },
  {
   "cell_type": "markdown",
   "metadata": {},
   "source": [
    "## **Q1. Create a unique name for each restaurant.**"
   ]
  },
  {
   "cell_type": "markdown",
   "metadata": {},
   "source": [
    "_Make a copy of the dataframe. Create a new column called 'RESTAURANT' by concetenating DBA, BUILDING, STREET, ZIPCODE_"
   ]
  },
  {
   "cell_type": "code",
   "execution_count": 7,
   "metadata": {},
   "outputs": [],
   "source": [
    "df_copy = df.copy()\n",
    "df_copy['RESTAURANT'] = df['DBA'] + ' ' + df['BUILDING'] + ' ' + df['STREET'] + ' ' + df['ZIPCODE']"
   ]
  },
  {
   "cell_type": "code",
   "execution_count": 8,
   "metadata": {},
   "outputs": [
    {
     "data": {
      "text/plain": [
       "0                    WENDY'S 469 FLATBUSH AVENUE 11225\n",
       "1                    WENDY'S 469 FLATBUSH AVENUE 11225\n",
       "2                    WENDY'S 469 FLATBUSH AVENUE 11225\n",
       "3                    WENDY'S 469 FLATBUSH AVENUE 11225\n",
       "4                    WENDY'S 469 FLATBUSH AVENUE 11225\n",
       "5               TOV KOSHER KITCHEN 97-22 63 ROAD 11374\n",
       "6               TOV KOSHER KITCHEN 97-22 63 ROAD 11374\n",
       "7               TOV KOSHER KITCHEN 97-22 63 ROAD 11374\n",
       "8               TOV KOSHER KITCHEN 97-22 63 ROAD 11374\n",
       "9    BRUNOS ON THE BOULEVARD 8825 ASTORIA BOULEVARD...\n",
       "Name: RESTAURANT, dtype: object"
      ]
     },
     "execution_count": 8,
     "metadata": {},
     "output_type": "execute_result"
    }
   ],
   "source": [
    "df_copy['RESTAURANT'].head(10)"
   ]
  },
  {
   "cell_type": "markdown",
   "metadata": {},
   "source": [
    "## **Q2. How many restaurants are included in the data?**"
   ]
  },
  {
   "cell_type": "markdown",
   "metadata": {},
   "source": [
    "_use DataFrame.nunique() to find all unique values of RESTAURANT in our df copy, then count them. This should work because RESTAURANT should have a unique value for each separate restaurant (since it's a concatenation of the restaurant name and address)_"
   ]
  },
  {
   "cell_type": "code",
   "execution_count": 9,
   "metadata": {},
   "outputs": [
    {
     "data": {
      "text/plain": [
       "10114"
      ]
     },
     "execution_count": 9,
     "metadata": {},
     "output_type": "execute_result"
    }
   ],
   "source": [
    "df_copy['RESTAURANT'].nunique()"
   ]
  },
  {
   "cell_type": "markdown",
   "metadata": {},
   "source": [
    "## **Q3. How many chains are there?**"
   ]
  },
  {
   "cell_type": "markdown",
   "metadata": {},
   "source": [
    "_Make a column of unique addresses. Create a new dataframe with columns unique address and DBA, dropping duplicate values. Use a lambda expression to filter for restaurant names that appear in the new dataframe more than once, when it's grouped by DBA. Find the length of the filtered dataframe when grouped by DBA (I chose to make a value counts series in preparation for the next question)_"
   ]
  },
  {
   "cell_type": "code",
   "execution_count": 10,
   "metadata": {},
   "outputs": [],
   "source": [
    "df_uniqueAddresses = df.copy()\n",
    "df_uniqueAddresses['UNIQUE ADDRESS'] = df['BUILDING'] + ' ' + df['STREET'] + ' ' + df['ZIPCODE'] + ' ' + df['BORO']"
   ]
  },
  {
   "cell_type": "code",
   "execution_count": 11,
   "metadata": {},
   "outputs": [
    {
     "data": {
      "text/plain": [
       "0     469 FLATBUSH AVENUE 11225 BROOKLYN\n",
       "1     469 FLATBUSH AVENUE 11225 BROOKLYN\n",
       "2     469 FLATBUSH AVENUE 11225 BROOKLYN\n",
       "3     469 FLATBUSH AVENUE 11225 BROOKLYN\n",
       "4     469 FLATBUSH AVENUE 11225 BROOKLYN\n",
       "5             97-22 63 ROAD 11374 QUEENS\n",
       "6             97-22 63 ROAD 11374 QUEENS\n",
       "7             97-22 63 ROAD 11374 QUEENS\n",
       "8             97-22 63 ROAD 11374 QUEENS\n",
       "9    8825 ASTORIA BOULEVARD 11369 QUEENS\n",
       "Name: UNIQUE ADDRESS, dtype: object"
      ]
     },
     "execution_count": 11,
     "metadata": {},
     "output_type": "execute_result"
    }
   ],
   "source": [
    "df_uniqueAddresses['UNIQUE ADDRESS'].head(10)"
   ]
  },
  {
   "cell_type": "code",
   "execution_count": 63,
   "metadata": {},
   "outputs": [
    {
     "data": {
      "text/html": [
       "<div>\n",
       "<style scoped>\n",
       "    .dataframe tbody tr th:only-of-type {\n",
       "        vertical-align: middle;\n",
       "    }\n",
       "\n",
       "    .dataframe tbody tr th {\n",
       "        vertical-align: top;\n",
       "    }\n",
       "\n",
       "    .dataframe thead th {\n",
       "        text-align: right;\n",
       "    }\n",
       "</style>\n",
       "<table border=\"1\" class=\"dataframe\">\n",
       "  <thead>\n",
       "    <tr style=\"text-align: right;\">\n",
       "      <th></th>\n",
       "      <th>UNIQUE ADDRESS</th>\n",
       "      <th>DBA</th>\n",
       "    </tr>\n",
       "  </thead>\n",
       "  <tbody>\n",
       "    <tr>\n",
       "      <th>0</th>\n",
       "      <td>469 FLATBUSH AVENUE 11225 BROOKLYN</td>\n",
       "      <td>WENDY'S</td>\n",
       "    </tr>\n",
       "    <tr>\n",
       "      <th>5</th>\n",
       "      <td>97-22 63 ROAD 11374 QUEENS</td>\n",
       "      <td>TOV KOSHER KITCHEN</td>\n",
       "    </tr>\n",
       "    <tr>\n",
       "      <th>9</th>\n",
       "      <td>8825 ASTORIA BOULEVARD 11369 QUEENS</td>\n",
       "      <td>BRUNOS ON THE BOULEVARD</td>\n",
       "    </tr>\n",
       "    <tr>\n",
       "      <th>16</th>\n",
       "      <td>1269 SUTTER AVENUE 11208 BROOKLYN</td>\n",
       "      <td>MAY MAY KITCHEN</td>\n",
       "    </tr>\n",
       "    <tr>\n",
       "      <th>22</th>\n",
       "      <td>705 KINGS HIGHWAY 11223 BROOKLYN</td>\n",
       "      <td>SEUDA FOODS</td>\n",
       "    </tr>\n",
       "  </tbody>\n",
       "</table>\n",
       "</div>"
      ],
      "text/plain": [
       "                         UNIQUE ADDRESS                      DBA\n",
       "0    469 FLATBUSH AVENUE 11225 BROOKLYN                  WENDY'S\n",
       "5            97-22 63 ROAD 11374 QUEENS       TOV KOSHER KITCHEN\n",
       "9   8825 ASTORIA BOULEVARD 11369 QUEENS  BRUNOS ON THE BOULEVARD\n",
       "16    1269 SUTTER AVENUE 11208 BROOKLYN          MAY MAY KITCHEN\n",
       "22     705 KINGS HIGHWAY 11223 BROOKLYN              SEUDA FOODS"
      ]
     },
     "execution_count": 63,
     "metadata": {},
     "output_type": "execute_result"
    }
   ],
   "source": [
    "df_restaurantLocs = df_uniqueAddresses[['UNIQUE ADDRESS', 'DBA']]\n",
    "df_restaurantLocs = df_restaurantLocs.drop_duplicates()\n",
    "df_restaurantLocs.head()"
   ]
  },
  {
   "cell_type": "code",
   "execution_count": 76,
   "metadata": {},
   "outputs": [
    {
     "data": {
      "text/plain": [
       "SUBWAY              144\n",
       "MCDONALD'S           79\n",
       "STARBUCKS COFFEE     74\n",
       "DUNKIN' DONUTS       69\n",
       "DUNKIN DONUTS        64\n",
       "Name: DBA, dtype: int64"
      ]
     },
     "execution_count": 76,
     "metadata": {},
     "output_type": "execute_result"
    }
   ],
   "source": [
    "df_chains = df_restaurantLocs.groupby('DBA').filter(lambda x: len(x) > 1)\n",
    "chains_vc = df_chains['DBA'].value_counts() # prep for next question\n",
    "chains_vc.head()"
   ]
  },
  {
   "cell_type": "code",
   "execution_count": 71,
   "metadata": {},
   "outputs": [
    {
     "data": {
      "text/plain": [
       "368"
      ]
     },
     "execution_count": 71,
     "metadata": {},
     "output_type": "execute_result"
    }
   ],
   "source": [
    "len(chains_vc)"
   ]
  },
  {
   "cell_type": "markdown",
   "metadata": {},
   "source": [
    "## **Q4. Plot a bar graph of the top 20 most popular chains.**"
   ]
  },
  {
   "cell_type": "markdown",
   "metadata": {},
   "source": [
    "_use our previously created value counts series to plot the graph._"
   ]
  },
  {
   "cell_type": "code",
   "execution_count": 73,
   "metadata": {},
   "outputs": [
    {
     "data": {
      "text/plain": [
       "<matplotlib.axes._subplots.AxesSubplot at 0x11bea630>"
      ]
     },
     "execution_count": 73,
     "metadata": {},
     "output_type": "execute_result"
    },
    {
     "data": {
      "image/png": "[encoded data removed]",
      "text/plain": [
       "<matplotlib.figure.Figure at 0x11bb17f0>"
      ]
     },
     "metadata": {},
     "output_type": "display_data"
    }
   ],
   "source": [
    "chains_vc[:20].plot(kind=\"bar\")"
   ]
  },
  {
   "cell_type": "markdown",
   "metadata": {},
   "source": [
    "## **Q5. What fraction of all restaurants are chains?**"
   ]
  },
  {
   "cell_type": "markdown",
   "metadata": {},
   "source": [
    "_Use the value of all unique restaurants from Q2. Find the total number of chain restaurants by taking the length of the chains dataframe we made in Q3. Divide._"
   ]
  },
  {
   "cell_type": "code",
   "execution_count": 74,
   "metadata": {},
   "outputs": [
    {
     "data": {
      "text/plain": [
       "0.16472216729286138"
      ]
     },
     "execution_count": 74,
     "metadata": {},
     "output_type": "execute_result"
    }
   ],
   "source": [
    "len(df_chains) / (df_copy['RESTAURANT'].nunique() * 1.0)      # make sure you use floats :("
   ]
  },
  {
   "cell_type": "markdown",
   "metadata": {},
   "source": [
    "## **Q6. Plot the number of non-chain restaurants in each boro.**"
   ]
  },
  {
   "cell_type": "markdown",
   "metadata": {},
   "source": [
    "_Make a new df that has unique addresses, dba, and boro. Mask to set 'missing' boro values to NaN, and get rid of those rows. Since a single restaurant can have more than 1 violation, make sure to drop duplicate rows. Group by DBA, and use a lambda function to filter for DBA values that appear only once. These are non-chains. Plot value counts of each boro._"
   ]
  },
  {
   "cell_type": "code",
   "execution_count": 82,
   "metadata": {},
   "outputs": [
    {
     "name": "stderr",
     "output_type": "stream",
     "text": [
      "C:\\Users\\jeile\\Anaconda3\\envs\\chakra\\lib\\site-packages\\ipykernel_launcher.py:3: SettingWithCopyWarning: \n",
      "A value is trying to be set on a copy of a slice from a DataFrame\n",
      "\n",
      "See the caveats in the documentation: http://pandas.pydata.org/pandas-docs/stable/indexing.html#indexing-view-versus-copy\n",
      "  This is separate from the ipykernel package so we can avoid doing imports until\n"
     ]
    },
    {
     "data": {
      "text/plain": [
       "<matplotlib.axes._subplots.AxesSubplot at 0x12756828>"
      ]
     },
     "execution_count": 82,
     "metadata": {},
     "output_type": "execute_result"
    },
    {
     "data": {
      "image/png": "[encoded data removed]",
      "text/plain": [
       "<matplotlib.figure.Figure at 0x12726048>"
      ]
     },
     "metadata": {},
     "output_type": "display_data"
    }
   ],
   "source": [
    "df = df_uniqueAddresses.copy()\n",
    "df_withBoro = df[['UNIQUE ADDRESS', 'DBA', 'BORO']]\n",
    "df_withBoro.loc[df_withBoro['BORO'] == 'Missing'] = np.nan\n",
    "df_withBoro = df_withBoro.drop_duplicates()\n",
    "boro_nonchain_vc = df_withBoro.groupby('DBA').filter(lambda x: len(x) == 1)['BORO'].value_counts()\n",
    "boro_nonchain_vc.plot(kind='bar')"
   ]
  },
  {
   "cell_type": "markdown",
   "metadata": {},
   "source": [
    "## **Q7. Plot the _fraction_ of non-chain restaurants in each boro.**"
   ]
  },
  {
   "cell_type": "markdown",
   "metadata": {},
   "source": [
    "_Find the value counts of each boro in general by using the dataframe withBoro we made in our previous problem. Divide the value counts series for nonchainsn by this new value counts series, casting the result as a float for ease of plotting._"
   ]
  },
  {
   "cell_type": "code",
   "execution_count": 86,
   "metadata": {},
   "outputs": [
    {
     "data": {
      "text/plain": [
       "<matplotlib.axes._subplots.AxesSubplot at 0x10c68ac8>"
      ]
     },
     "execution_count": 86,
     "metadata": {},
     "output_type": "execute_result"
    },
    {
     "data": {
      "image/png": "[encoded data removed]",
      "text/plain": [
       "<matplotlib.figure.Figure at 0x11cefa20>"
      ]
     },
     "metadata": {},
     "output_type": "display_data"
    }
   ],
   "source": [
    "boro_vc = df_withBoro['BORO'].value_counts()\n",
    "fraction_vc = (boro_nonchain_vc/boro_vc).astype(float)\n",
    "fraction_vc.plot(kind='bar')"
   ]
  },
  {
   "cell_type": "markdown",
   "metadata": {},
   "source": [
    "## **Q8. Plot the popularity of cuisines.**"
   ]
  },
  {
   "cell_type": "markdown",
   "metadata": {},
   "source": [
    "_Makes a copy of the dataframe, only using the Restaurant and Cuisine Description columns. It then only allows unique restaurants, and counts the cuisine type of these restaurants, plotting the top 20 most popular cuisines._"
   ]
  },
  {
   "cell_type": "code",
   "execution_count": 87,
   "metadata": {},
   "outputs": [
    {
     "data": {
      "text/plain": [
       "<matplotlib.axes._subplots.AxesSubplot at 0x11c53198>"
      ]
     },
     "execution_count": 87,
     "metadata": {},
     "output_type": "execute_result"
    },
    {
     "data": {
      "image/png": "[encoded data removed]",
      "text/plain": [
       "<matplotlib.figure.Figure at 0x1238ad68>"
      ]
     },
     "metadata": {},
     "output_type": "display_data"
    }
   ],
   "source": [
    "df_cuisine = df_copy[['RESTAURANT','CUISINE DESCRIPTION']]\n",
    "df_nodup = df_cuisine.drop_duplicates(subset='RESTAURANT')\n",
    "cuisine_count = df_nodup['CUISINE DESCRIPTION'].value_counts()\n",
    "cuisine_count.sort_values()\n",
    "cuisine_count[:20].plot(kind='bar')"
   ]
  },
  {
   "cell_type": "markdown",
   "metadata": {},
   "source": [
    "## **Q9. Plot the cuisines among restaurants which do not get cited for violations.**"
   ]
  },
  {
   "cell_type": "markdown",
   "metadata": {},
   "source": [
    "_Makes a copy of the dataframe, only using the Restaurant and Cuisine Description columns. Creates a mask that only allows instances where no violations occured (No violation code) and removes duplicate restaurants. It then counts the number of cuisines and plots the top 20 most frequent._"
   ]
  },
  {
   "cell_type": "code",
   "execution_count": 88,
   "metadata": {},
   "outputs": [
    {
     "data": {
      "text/plain": [
       "<matplotlib.axes._subplots.AxesSubplot at 0x1358a438>"
      ]
     },
     "execution_count": 88,
     "metadata": {},
     "output_type": "execute_result"
    },
    {
     "data": {
      "image/png": "[encoded data removed]",
      "text/plain": [
       "<matplotlib.figure.Figure at 0x1174f8d0>"
      ]
     },
     "metadata": {},
     "output_type": "display_data"
    }
   ],
   "source": [
    "mask = (df_copy['VIOLATION CODE'].isnull())\n",
    "df_violation = df_copy[mask][['RESTAURANT','CUISINE DESCRIPTION']]\n",
    "df_violation = df_violation.drop_duplicates(subset='RESTAURANT', keep='first', inplace=False)\n",
    "cuisine_count = df_violation['CUISINE DESCRIPTION'].value_counts()\n",
    "cuisine_count.sort_values()\n",
    "cuisine_count[:20].plot(kind='bar')"
   ]
  },
  {
   "cell_type": "markdown",
   "metadata": {},
   "source": [
    "## **Q10. What cuisines tend to be the “cleanest”?**"
   ]
  },
  {
   "cell_type": "markdown",
   "metadata": {},
   "source": [
    "_make new dataframe with unique restaurant name, cuisine descriptions, and violation codes. set the index to restaurant, find the total number of restaurants with a certain cuisine and how many of those have violations. divide the two to find cuisines with the lowest ratios of violations._"
   ]
  },
  {
   "cell_type": "code",
   "execution_count": 94,
   "metadata": {},
   "outputs": [
    {
     "data": {
      "text/html": [
       "<div>\n",
       "<style scoped>\n",
       "    .dataframe tbody tr th:only-of-type {\n",
       "        vertical-align: middle;\n",
       "    }\n",
       "\n",
       "    .dataframe tbody tr th {\n",
       "        vertical-align: top;\n",
       "    }\n",
       "\n",
       "    .dataframe thead th {\n",
       "        text-align: right;\n",
       "    }\n",
       "</style>\n",
       "<table border=\"1\" class=\"dataframe\">\n",
       "  <thead>\n",
       "    <tr style=\"text-align: right;\">\n",
       "      <th></th>\n",
       "      <th>Ratio of No Violations</th>\n",
       "    </tr>\n",
       "    <tr>\n",
       "      <th>Cuisine</th>\n",
       "      <th></th>\n",
       "    </tr>\n",
       "  </thead>\n",
       "  <tbody>\n",
       "    <tr>\n",
       "      <th>Creole</th>\n",
       "      <td>0.040000</td>\n",
       "    </tr>\n",
       "    <tr>\n",
       "      <th>Chinese/Cuban</th>\n",
       "      <td>0.036364</td>\n",
       "    </tr>\n",
       "    <tr>\n",
       "      <th>Barbecue</th>\n",
       "      <td>0.031250</td>\n",
       "    </tr>\n",
       "    <tr>\n",
       "      <th>Soups &amp; Sandwiches</th>\n",
       "      <td>0.030769</td>\n",
       "    </tr>\n",
       "    <tr>\n",
       "      <th>Continental</th>\n",
       "      <td>0.028986</td>\n",
       "    </tr>\n",
       "    <tr>\n",
       "      <th>Other</th>\n",
       "      <td>0.025547</td>\n",
       "    </tr>\n",
       "    <tr>\n",
       "      <th>Peruvian</th>\n",
       "      <td>0.023256</td>\n",
       "    </tr>\n",
       "    <tr>\n",
       "      <th>Russian</th>\n",
       "      <td>0.022857</td>\n",
       "    </tr>\n",
       "    <tr>\n",
       "      <th>French</th>\n",
       "      <td>0.021667</td>\n",
       "    </tr>\n",
       "    <tr>\n",
       "      <th>Bangladeshi</th>\n",
       "      <td>0.020134</td>\n",
       "    </tr>\n",
       "  </tbody>\n",
       "</table>\n",
       "</div>"
      ],
      "text/plain": [
       "                    Ratio of No Violations\n",
       "Cuisine                                   \n",
       "Creole                            0.040000\n",
       "Chinese/Cuban                     0.036364\n",
       "Barbecue                          0.031250\n",
       "Soups & Sandwiches                0.030769\n",
       "Continental                       0.028986\n",
       "Other                             0.025547\n",
       "Peruvian                          0.023256\n",
       "Russian                           0.022857\n",
       "French                            0.021667\n",
       "Bangladeshi                       0.020134"
      ]
     },
     "execution_count": 94,
     "metadata": {},
     "output_type": "execute_result"
    }
   ],
   "source": [
    "orig_data = pd.read_csv('NYC_Restaurants.csv',\n",
    "                        parse_dates=['INSPECTION DATE'])\n",
    "new_df = orig_data[['DBA','BUILDING','STREET','ZIPCODE','CUISINE DESCRIPTION','VIOLATION CODE']]\n",
    "df2 = new_df.copy()\n",
    "df2['Restaurant'] = new_df['DBA'] + ' ' + new_df['BUILDING'] + ' ' + new_df['STREET'].apply(str) + ' ' + new_df['ZIPCODE'].apply(str)\n",
    "df2['Cuisine'] = new_df['CUISINE DESCRIPTION']\n",
    "rest_cuisine_v_df = df2[['Restaurant','Cuisine','VIOLATION CODE']]\n",
    "rest_cuisine_v_df = rest_cuisine_v_df.set_index('Restaurant')\n",
    "cuisine_vc = rest_cuisine_v_df['Cuisine'].value_counts()\n",
    "cuisine_20plus = cuisine_vc[cuisine_vc >= 20]\n",
    "\n",
    "nullmask = rest_cuisine_v_df['VIOLATION CODE'].isnull()\n",
    "cuisine_pass = rest_cuisine_v_df[nullmask]\n",
    "cuisine_pass_vc = cuisine_pass['Cuisine'].value_counts()\n",
    "cuisine_ratio = pd.concat([cuisine_pass_vc,cuisine_20plus],axis = 1,keys = ['Pass','Serving'])\n",
    "i = 0\n",
    "top_list_index = []\n",
    "top_list_values = []\n",
    "for row in cuisine_ratio.itertuples():\n",
    "    if not math.isnan(row[1]) and not math.isnan(row[2]):\n",
    "        top_list_index.append(row[0])\n",
    "        top_list_values.append(row[1]/row[2])\n",
    "\n",
    "t1 = Series(top_list_index)\n",
    "t2 = Series(top_list_values)\n",
    "df_ratios = pd.concat([t1,t2],axis = 1,keys = ['Cuisine', 'Ratio of No Violations'])\n",
    "df_ratios = df_ratios.set_index('Cuisine')\n",
    "df_ratios = df_ratios.sort_values(by = 'Ratio of No Violations',ascending = False)\n",
    "\n",
    "top_ten_clean = df_ratios[:10]\n",
    "top_ten_clean"
   ]
  },
  {
   "cell_type": "markdown",
   "metadata": {},
   "source": [
    "## **Q11. What are the most common violations in each borough?**"
   ]
  },
  {
   "cell_type": "markdown",
   "metadata": {},
   "source": [
    "_Calculated the counts of each violation-boro combination by creating a dummy column with a value of 1 and collapsing it through a pivot table_"
   ]
  },
  {
   "cell_type": "code",
   "execution_count": 89,
   "metadata": {},
   "outputs": [
    {
     "data": {
      "text/plain": [
       "BORO\n",
       "BRONX            10F\n",
       "BROOKLYN         10F\n",
       "MANHATTAN        10F\n",
       "QUEENS           10F\n",
       "STATEN ISLAND    10F\n",
       "dtype: object"
      ]
     },
     "execution_count": 89,
     "metadata": {},
     "output_type": "execute_result"
    }
   ],
   "source": [
    "df_counts = DataFrame(copy(df), columns = df.columns.values)\n",
    "df_counts['count'] = Series(repeat(1,len(df_counts)))\n",
    "\n",
    "pivoted = pd.pivot_table(df_counts, index = 'BORO', columns = 'VIOLATION CODE', values='count', aggfunc=sum)\n",
    "pivoted = pivoted.fillna(0)\n",
    "pivoted = pivoted.drop('Missing')\n",
    "\n",
    "pivoted.T.idxmax()"
   ]
  },
  {
   "cell_type": "markdown",
   "metadata": {},
   "source": [
    "## **Q12. What are the most common violations per borough, after normalizing for the relative abundance of each violation?**"
   ]
  },
  {
   "cell_type": "markdown",
   "metadata": {},
   "source": [
    "_Normalized the entire pivot table DataFrame by constructing a function that divides each violation count within a bourough by the total count for that violation. Returns the new pivot table._"
   ]
  },
  {
   "cell_type": "code",
   "execution_count": 91,
   "metadata": {},
   "outputs": [],
   "source": [
    "def violationFrequency(df):\n",
    "    pivot = pd.pivot_table(df_counts, index = \"VIOLATION CODE\", values = 'count', aggfunc=sum)\n",
    "    pivot = pivot.T\n",
    "    \n",
    "    for i in df.columns.values:\n",
    "        f = pivot[i]\n",
    "        df[i] /= float(f)\n",
    "    \n",
    "    return df"
   ]
  },
  {
   "cell_type": "code",
   "execution_count": 92,
   "metadata": {},
   "outputs": [
    {
     "data": {
      "text/plain": [
       "BORO\n",
       "BRONX            04I\n",
       "BROOKLYN         02D\n",
       "MANHATTAN        03E\n",
       "QUEENS           03G\n",
       "STATEN ISLAND    03C\n",
       "dtype: object"
      ]
     },
     "execution_count": 92,
     "metadata": {},
     "output_type": "execute_result"
    }
   ],
   "source": [
    "violationFrequency(pivoted)\n",
    "pivoted.T.idxmax()"
   ]
  }
 ],
 "metadata": {
  "kernelspec": {
   "display_name": "Python 2",
   "language": "python",
   "name": "python2"
  },
  "language_info": {
   "codemirror_mode": {
    "name": "ipython",
    "version": 2
   },
   "file_extension": ".py",
   "mimetype": "text/x-python",
   "name": "python",
   "nbconvert_exporter": "python",
   "pygments_lexer": "ipython2",
   "version": "2.7.14"
  }
 },
 "nbformat": 4,
 "nbformat_minor": 2
}
