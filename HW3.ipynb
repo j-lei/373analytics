{
 "cells": [
  {
   "cell_type": "code",
   "execution_count": 172,
   "metadata": {},
   "outputs": [],
   "source": [
    "import pandas as pd\n",
    "from pandas import DataFrame\n",
    "from pandas import Series\n",
    "import copy"
   ]
  },
  {
   "cell_type": "code",
   "execution_count": 173,
   "metadata": {},
   "outputs": [
    {
     "name": "stdout",
     "output_type": "stream",
     "text": [
      "Populating the interactive namespace from numpy and matplotlib\n"
     ]
    }
   ],
   "source": [
    "# Special packages\n",
    "import statsmodels.api as sm\n",
    "from patsy import dmatrices\n",
    "from sklearn.model_selection import train_test_split\n",
    "%pylab inline"
   ]
  },
  {
   "cell_type": "markdown",
   "metadata": {},
   "source": [
    "## **Q1. Read the data.**"
   ]
  },
  {
   "cell_type": "markdown",
   "metadata": {},
   "source": [
    "_Read in the data from http://www.stat.ufl.edu/~winner/data/clinton1.dat. Note that this is NOT a CSV file. The description of the data fields are present in http://www.stat.ufl.edu/~winner/data/clinton1.txt. You will have  to  figure  out  the  rightparameters for thereadcsvcommand yourself (e.g., the regular expressionfor the delimiter, and the names of the columns)._"
   ]
  },
  {
   "cell_type": "code",
   "execution_count": 141,
   "metadata": {},
   "outputs": [
    {
     "name": "stderr",
     "output_type": "stream",
     "text": [
      "C:\\Users\\jeile\\Anaconda3\\envs\\chakra\\lib\\site-packages\\ipykernel_launcher.py:15: ParserWarning: Falling back to the 'python' engine because the 'c' engine does not support regex separators (separators > 1 char and different from '\\s+' are interpreted as regex); you can avoid this warning by specifying engine='python'.\n",
      "  from ipykernel import kernelapp as app\n"
     ]
    }
   ],
   "source": [
    "df = pd.read_table('http://users.stat.ufl.edu/~winner/data/clinton1.dat',\n",
    "                    header = None,\n",
    "                    names = ['County_Name',\n",
    "                            'percentVoting',\n",
    "                            'Median_Age',\n",
    "                            'Mean_Savings',\n",
    "                            'Per_Capita_Income',\n",
    "                            'Percent_Poverty',\n",
    "                            'Percent_Veterans',\n",
    "                            'Percent_Female',\n",
    "                            'Population_Density',\n",
    "                            'Percent_Nursing_Homes',\n",
    "                            'Crime_Index'],\n",
    "                   sep = '\\s{2,}',\n",
    "                   index_col = 0)"
   ]
  },
  {
   "cell_type": "code",
   "execution_count": 142,
   "metadata": {},
   "outputs": [
    {
     "data": {
      "text/html": [
       "<div>\n",
       "<style scoped>\n",
       "    .dataframe tbody tr th:only-of-type {\n",
       "        vertical-align: middle;\n",
       "    }\n",
       "\n",
       "    .dataframe tbody tr th {\n",
       "        vertical-align: top;\n",
       "    }\n",
       "\n",
       "    .dataframe thead th {\n",
       "        text-align: right;\n",
       "    }\n",
       "</style>\n",
       "<table border=\"1\" class=\"dataframe\">\n",
       "  <thead>\n",
       "    <tr style=\"text-align: right;\">\n",
       "      <th></th>\n",
       "      <th>percentVoting</th>\n",
       "      <th>Median_Age</th>\n",
       "      <th>Mean_Savings</th>\n",
       "      <th>Per_Capita_Income</th>\n",
       "      <th>Percent_Poverty</th>\n",
       "      <th>Percent_Veterans</th>\n",
       "      <th>Percent_Female</th>\n",
       "      <th>Population_Density</th>\n",
       "      <th>Percent_Nursing_Homes</th>\n",
       "      <th>Crime_Index</th>\n",
       "    </tr>\n",
       "    <tr>\n",
       "      <th>County_Name</th>\n",
       "      <th></th>\n",
       "      <th></th>\n",
       "      <th></th>\n",
       "      <th></th>\n",
       "      <th></th>\n",
       "      <th></th>\n",
       "      <th></th>\n",
       "      <th></th>\n",
       "      <th></th>\n",
       "      <th></th>\n",
       "    </tr>\n",
       "  </thead>\n",
       "  <tbody>\n",
       "    <tr>\n",
       "      <th>Autauga, AL</th>\n",
       "      <td>30.92</td>\n",
       "      <td>31.7</td>\n",
       "      <td>57623</td>\n",
       "      <td>15768</td>\n",
       "      <td>15.2</td>\n",
       "      <td>10.74</td>\n",
       "      <td>51.41</td>\n",
       "      <td>60.4</td>\n",
       "      <td>2.36</td>\n",
       "      <td>457</td>\n",
       "    </tr>\n",
       "    <tr>\n",
       "      <th>Baldwin, AL</th>\n",
       "      <td>26.24</td>\n",
       "      <td>35.5</td>\n",
       "      <td>84935</td>\n",
       "      <td>16954</td>\n",
       "      <td>13.6</td>\n",
       "      <td>9.73</td>\n",
       "      <td>51.34</td>\n",
       "      <td>66.5</td>\n",
       "      <td>5.40</td>\n",
       "      <td>282</td>\n",
       "    </tr>\n",
       "    <tr>\n",
       "      <th>Barbour, AL</th>\n",
       "      <td>46.36</td>\n",
       "      <td>32.8</td>\n",
       "      <td>83656</td>\n",
       "      <td>15532</td>\n",
       "      <td>25.0</td>\n",
       "      <td>8.82</td>\n",
       "      <td>53.03</td>\n",
       "      <td>28.8</td>\n",
       "      <td>7.02</td>\n",
       "      <td>47</td>\n",
       "    </tr>\n",
       "    <tr>\n",
       "      <th>Blount, AL</th>\n",
       "      <td>32.92</td>\n",
       "      <td>34.5</td>\n",
       "      <td>61249</td>\n",
       "      <td>14820</td>\n",
       "      <td>15.0</td>\n",
       "      <td>9.67</td>\n",
       "      <td>51.15</td>\n",
       "      <td>62.4</td>\n",
       "      <td>2.36</td>\n",
       "      <td>185</td>\n",
       "    </tr>\n",
       "    <tr>\n",
       "      <th>Bullock, AL</th>\n",
       "      <td>67.67</td>\n",
       "      <td>31.7</td>\n",
       "      <td>75725</td>\n",
       "      <td>11120</td>\n",
       "      <td>33.0</td>\n",
       "      <td>7.08</td>\n",
       "      <td>50.76</td>\n",
       "      <td>17.6</td>\n",
       "      <td>2.91</td>\n",
       "      <td>141</td>\n",
       "    </tr>\n",
       "    <tr>\n",
       "      <th>Butler, AL</th>\n",
       "      <td>47.43</td>\n",
       "      <td>33.5</td>\n",
       "      <td>75887</td>\n",
       "      <td>12015</td>\n",
       "      <td>27.1</td>\n",
       "      <td>9.48</td>\n",
       "      <td>53.25</td>\n",
       "      <td>28.1</td>\n",
       "      <td>7.98</td>\n",
       "      <td>266</td>\n",
       "    </tr>\n",
       "    <tr>\n",
       "      <th>Calhoun, AL</th>\n",
       "      <td>38.44</td>\n",
       "      <td>32.7</td>\n",
       "      <td>76073</td>\n",
       "      <td>15162</td>\n",
       "      <td>18.0</td>\n",
       "      <td>11.95</td>\n",
       "      <td>51.66</td>\n",
       "      <td>190.8</td>\n",
       "      <td>4.81</td>\n",
       "      <td>560</td>\n",
       "    </tr>\n",
       "    <tr>\n",
       "      <th>Chambers, AL</th>\n",
       "      <td>45.36</td>\n",
       "      <td>34.8</td>\n",
       "      <td>40498</td>\n",
       "      <td>13887</td>\n",
       "      <td>18.8</td>\n",
       "      <td>10.52</td>\n",
       "      <td>52.77</td>\n",
       "      <td>62.1</td>\n",
       "      <td>6.15</td>\n",
       "      <td>218</td>\n",
       "    </tr>\n",
       "    <tr>\n",
       "      <th>Cherokee, AL</th>\n",
       "      <td>53.61</td>\n",
       "      <td>36.3</td>\n",
       "      <td>56386</td>\n",
       "      <td>13936</td>\n",
       "      <td>15.4</td>\n",
       "      <td>9.29</td>\n",
       "      <td>50.82</td>\n",
       "      <td>35.8</td>\n",
       "      <td>5.61</td>\n",
       "      <td>51</td>\n",
       "    </tr>\n",
       "    <tr>\n",
       "      <th>Chilton, AL</th>\n",
       "      <td>34.19</td>\n",
       "      <td>34.0</td>\n",
       "      <td>52230</td>\n",
       "      <td>14036</td>\n",
       "      <td>18.6</td>\n",
       "      <td>9.48</td>\n",
       "      <td>51.41</td>\n",
       "      <td>47.8</td>\n",
       "      <td>3.58</td>\n",
       "      <td>296</td>\n",
       "    </tr>\n",
       "  </tbody>\n",
       "</table>\n",
       "</div>"
      ],
      "text/plain": [
       "              percentVoting  Median_Age  Mean_Savings  Per_Capita_Income  \\\n",
       "County_Name                                                                \n",
       "Autauga, AL           30.92        31.7         57623              15768   \n",
       "Baldwin, AL           26.24        35.5         84935              16954   \n",
       "Barbour, AL           46.36        32.8         83656              15532   \n",
       "Blount, AL            32.92        34.5         61249              14820   \n",
       "Bullock, AL           67.67        31.7         75725              11120   \n",
       "Butler, AL            47.43        33.5         75887              12015   \n",
       "Calhoun, AL           38.44        32.7         76073              15162   \n",
       "Chambers, AL          45.36        34.8         40498              13887   \n",
       "Cherokee, AL          53.61        36.3         56386              13936   \n",
       "Chilton, AL           34.19        34.0         52230              14036   \n",
       "\n",
       "              Percent_Poverty  Percent_Veterans  Percent_Female  \\\n",
       "County_Name                                                       \n",
       "Autauga, AL              15.2             10.74           51.41   \n",
       "Baldwin, AL              13.6              9.73           51.34   \n",
       "Barbour, AL              25.0              8.82           53.03   \n",
       "Blount, AL               15.0              9.67           51.15   \n",
       "Bullock, AL              33.0              7.08           50.76   \n",
       "Butler, AL               27.1              9.48           53.25   \n",
       "Calhoun, AL              18.0             11.95           51.66   \n",
       "Chambers, AL             18.8             10.52           52.77   \n",
       "Cherokee, AL             15.4              9.29           50.82   \n",
       "Chilton, AL              18.6              9.48           51.41   \n",
       "\n",
       "              Population_Density  Percent_Nursing_Homes  Crime_Index  \n",
       "County_Name                                                           \n",
       "Autauga, AL                 60.4                   2.36          457  \n",
       "Baldwin, AL                 66.5                   5.40          282  \n",
       "Barbour, AL                 28.8                   7.02           47  \n",
       "Blount, AL                  62.4                   2.36          185  \n",
       "Bullock, AL                 17.6                   2.91          141  \n",
       "Butler, AL                  28.1                   7.98          266  \n",
       "Calhoun, AL                190.8                   4.81          560  \n",
       "Chambers, AL                62.1                   6.15          218  \n",
       "Cherokee, AL                35.8                   5.61           51  \n",
       "Chilton, AL                 47.8                   3.58          296  "
      ]
     },
     "execution_count": 142,
     "metadata": {},
     "output_type": "execute_result"
    }
   ],
   "source": [
    "df[:10]"
   ]
  },
  {
   "cell_type": "markdown",
   "metadata": {},
   "source": [
    "## **Q2. Predict percentVoting on all regressors**"
   ]
  },
  {
   "cell_type": "markdown",
   "metadata": {},
   "source": [
    "_Create matrices for X and y values. Use an OLS regression. Find the 2 highest p-values._"
   ]
  },
  {
   "cell_type": "code",
   "execution_count": 143,
   "metadata": {},
   "outputs": [],
   "source": [
    "y, X = dmatrices('percentVoting ~ Median_Age + Mean_Savings + Per_Capita_Income + Percent_Poverty + Percent_Veterans + Percent_Female + Population_Density + Percent_Nursing_Homes + Crime_Index', data=df, return_type='dataframe')"
   ]
  },
  {
   "cell_type": "code",
   "execution_count": 144,
   "metadata": {},
   "outputs": [
    {
     "data": {
      "text/html": [
       "<table class=\"simpletable\">\n",
       "<caption>OLS Regression Results</caption>\n",
       "<tr>\n",
       "  <th>Dep. Variable:</th>      <td>percentVoting</td>  <th>  R-squared:         </th> <td>   0.327</td> \n",
       "</tr>\n",
       "<tr>\n",
       "  <th>Model:</th>                   <td>OLS</td>       <th>  Adj. R-squared:    </th> <td>   0.325</td> \n",
       "</tr>\n",
       "<tr>\n",
       "  <th>Method:</th>             <td>Least Squares</td>  <th>  F-statistic:       </th> <td>   145.4</td> \n",
       "</tr>\n",
       "<tr>\n",
       "  <th>Date:</th>             <td>Fri, 13 Apr 2018</td> <th>  Prob (F-statistic):</th> <td>4.12e-224</td>\n",
       "</tr>\n",
       "<tr>\n",
       "  <th>Time:</th>                 <td>15:02:07</td>     <th>  Log-Likelihood:    </th> <td> -9576.0</td> \n",
       "</tr>\n",
       "<tr>\n",
       "  <th>No. Observations:</th>      <td>  2704</td>      <th>  AIC:               </th> <td>1.917e+04</td>\n",
       "</tr>\n",
       "<tr>\n",
       "  <th>Df Residuals:</th>          <td>  2694</td>      <th>  BIC:               </th> <td>1.923e+04</td>\n",
       "</tr>\n",
       "<tr>\n",
       "  <th>Df Model:</th>              <td>     9</td>      <th>                     </th>     <td> </td>    \n",
       "</tr>\n",
       "<tr>\n",
       "  <th>Covariance Type:</th>      <td>nonrobust</td>    <th>                     </th>     <td> </td>    \n",
       "</tr>\n",
       "</table>\n",
       "<table class=\"simpletable\">\n",
       "<tr>\n",
       "            <td></td>               <th>coef</th>     <th>std err</th>      <th>t</th>      <th>P>|t|</th>  <th>[0.025</th>    <th>0.975]</th>  \n",
       "</tr>\n",
       "<tr>\n",
       "  <th>Intercept</th>             <td>  -38.3094</td> <td>    5.818</td> <td>   -6.585</td> <td> 0.000</td> <td>  -49.717</td> <td>  -26.901</td>\n",
       "</tr>\n",
       "<tr>\n",
       "  <th>Median_Age</th>            <td>    0.0707</td> <td>    0.060</td> <td>    1.179</td> <td> 0.239</td> <td>   -0.047</td> <td>    0.188</td>\n",
       "</tr>\n",
       "<tr>\n",
       "  <th>Mean_Savings</th>          <td>-3.077e-05</td> <td> 4.93e-06</td> <td>   -6.247</td> <td> 0.000</td> <td>-4.04e-05</td> <td>-2.11e-05</td>\n",
       "</tr>\n",
       "<tr>\n",
       "  <th>Per_Capita_Income</th>     <td>    0.0002</td> <td> 7.42e-05</td> <td>    2.375</td> <td> 0.018</td> <td> 3.08e-05</td> <td>    0.000</td>\n",
       "</tr>\n",
       "<tr>\n",
       "  <th>Percent_Poverty</th>       <td>    0.7669</td> <td>    0.035</td> <td>   22.118</td> <td> 0.000</td> <td>    0.699</td> <td>    0.835</td>\n",
       "</tr>\n",
       "<tr>\n",
       "  <th>Percent_Veterans</th>      <td>    0.3088</td> <td>    0.087</td> <td>    3.554</td> <td> 0.000</td> <td>    0.138</td> <td>    0.479</td>\n",
       "</tr>\n",
       "<tr>\n",
       "  <th>Percent_Female</th>        <td>    1.1844</td> <td>    0.119</td> <td>    9.985</td> <td> 0.000</td> <td>    0.952</td> <td>    1.417</td>\n",
       "</tr>\n",
       "<tr>\n",
       "  <th>Population_Density</th>    <td>    0.0019</td> <td>    0.000</td> <td>    9.681</td> <td> 0.000</td> <td>    0.002</td> <td>    0.002</td>\n",
       "</tr>\n",
       "<tr>\n",
       "  <th>Percent_Nursing_Homes</th> <td>   -0.0908</td> <td>    0.033</td> <td>   -2.794</td> <td> 0.005</td> <td>   -0.155</td> <td>   -0.027</td>\n",
       "</tr>\n",
       "<tr>\n",
       "  <th>Crime_Index</th>           <td>   -0.0013</td> <td>    0.001</td> <td>   -1.469</td> <td> 0.142</td> <td>   -0.003</td> <td>    0.000</td>\n",
       "</tr>\n",
       "</table>\n",
       "<table class=\"simpletable\">\n",
       "<tr>\n",
       "  <th>Omnibus:</th>       <td>22.560</td> <th>  Durbin-Watson:     </th> <td>   1.360</td>\n",
       "</tr>\n",
       "<tr>\n",
       "  <th>Prob(Omnibus):</th> <td> 0.000</td> <th>  Jarque-Bera (JB):  </th> <td>  28.526</td>\n",
       "</tr>\n",
       "<tr>\n",
       "  <th>Skew:</th>          <td> 0.129</td> <th>  Prob(JB):          </th> <td>6.39e-07</td>\n",
       "</tr>\n",
       "<tr>\n",
       "  <th>Kurtosis:</th>      <td> 3.432</td> <th>  Cond. No.          </th> <td>3.62e+06</td>\n",
       "</tr>\n",
       "</table>"
      ],
      "text/plain": [
       "<class 'statsmodels.iolib.summary.Summary'>\n",
       "\"\"\"\n",
       "                            OLS Regression Results                            \n",
       "==============================================================================\n",
       "Dep. Variable:          percentVoting   R-squared:                       0.327\n",
       "Model:                            OLS   Adj. R-squared:                  0.325\n",
       "Method:                 Least Squares   F-statistic:                     145.4\n",
       "Date:                Fri, 13 Apr 2018   Prob (F-statistic):          4.12e-224\n",
       "Time:                        15:02:07   Log-Likelihood:                -9576.0\n",
       "No. Observations:                2704   AIC:                         1.917e+04\n",
       "Df Residuals:                    2694   BIC:                         1.923e+04\n",
       "Df Model:                           9                                         \n",
       "Covariance Type:            nonrobust                                         \n",
       "=========================================================================================\n",
       "                            coef    std err          t      P>|t|      [0.025      0.975]\n",
       "-----------------------------------------------------------------------------------------\n",
       "Intercept               -38.3094      5.818     -6.585      0.000     -49.717     -26.901\n",
       "Median_Age                0.0707      0.060      1.179      0.239      -0.047       0.188\n",
       "Mean_Savings          -3.077e-05   4.93e-06     -6.247      0.000   -4.04e-05   -2.11e-05\n",
       "Per_Capita_Income         0.0002   7.42e-05      2.375      0.018    3.08e-05       0.000\n",
       "Percent_Poverty           0.7669      0.035     22.118      0.000       0.699       0.835\n",
       "Percent_Veterans          0.3088      0.087      3.554      0.000       0.138       0.479\n",
       "Percent_Female            1.1844      0.119      9.985      0.000       0.952       1.417\n",
       "Population_Density        0.0019      0.000      9.681      0.000       0.002       0.002\n",
       "Percent_Nursing_Homes    -0.0908      0.033     -2.794      0.005      -0.155      -0.027\n",
       "Crime_Index              -0.0013      0.001     -1.469      0.142      -0.003       0.000\n",
       "==============================================================================\n",
       "Omnibus:                       22.560   Durbin-Watson:                   1.360\n",
       "Prob(Omnibus):                  0.000   Jarque-Bera (JB):               28.526\n",
       "Skew:                           0.129   Prob(JB):                     6.39e-07\n",
       "Kurtosis:                       3.432   Cond. No.                     3.62e+06\n",
       "==============================================================================\n",
       "\n",
       "Warnings:\n",
       "[1] Standard Errors assume that the covariance matrix of the errors is correctly specified.\n",
       "[2] The condition number is large, 3.62e+06. This might indicate that there are\n",
       "strong multicollinearity or other numerical problems.\n",
       "\"\"\""
      ]
     },
     "execution_count": 144,
     "metadata": {},
     "output_type": "execute_result"
    }
   ],
   "source": [
    "model = sm.OLS(y, X)\n",
    "result = model.fit()\n",
    "result.summary()"
   ]
  },
  {
   "cell_type": "code",
   "execution_count": 145,
   "metadata": {},
   "outputs": [
    {
     "data": {
      "text/plain": [
       "Median_Age     0.238619\n",
       "Crime_Index    0.141950\n",
       "dtype: float64"
      ]
     },
     "execution_count": 145,
     "metadata": {},
     "output_type": "execute_result"
    }
   ],
   "source": [
    "result.pvalues.sort_values(ascending = False)[:2]"
   ]
  },
  {
   "cell_type": "markdown",
   "metadata": {},
   "source": [
    "## **Q3. A formula-creating function**"
   ]
  },
  {
   "cell_type": "markdown",
   "metadata": {},
   "source": [
    "_Join list of regressors into a string formatted like the first argument for dmatrices_"
   ]
  },
  {
   "cell_type": "code",
   "execution_count": 146,
   "metadata": {},
   "outputs": [],
   "source": [
    "def formula(regressors):\n",
    "    y_var = 'percentVoting'\n",
    "    x_var = ' + '.join(regressors)\n",
    "    return y_var + \" ~ \" + x_var"
   ]
  },
  {
   "cell_type": "code",
   "execution_count": 147,
   "metadata": {},
   "outputs": [
    {
     "data": {
      "text/plain": [
       "'percentVoting ~ age + savings + income'"
      ]
     },
     "execution_count": 147,
     "metadata": {},
     "output_type": "execute_result"
    }
   ],
   "source": [
    "formula(['age', 'savings', 'income'])"
   ]
  },
  {
   "cell_type": "markdown",
   "metadata": {},
   "source": [
    "## **Q4. R-squared computation function**"
   ]
  },
  {
   "cell_type": "markdown",
   "metadata": {},
   "source": [
    "_Uses the formula to run an OLS regression on stated regressors and return R-squared value_"
   ]
  },
  {
   "cell_type": "code",
   "execution_count": 148,
   "metadata": {},
   "outputs": [],
   "source": [
    "def rsquared(regressors):\n",
    "    f = formula(regressors)\n",
    "    y, X = dmatrices(f, data=df, return_type='dataframe')\n",
    "    model = sm.OLS(y, X)\n",
    "    result = model.fit()\n",
    "    return result.rsquared"
   ]
  },
  {
   "cell_type": "code",
   "execution_count": 149,
   "metadata": {},
   "outputs": [
    {
     "data": {
      "text/plain": [
       "0.27117765549214656"
      ]
     },
     "execution_count": 149,
     "metadata": {},
     "output_type": "execute_result"
    }
   ],
   "source": [
    "rsquared(['Median_Age','Mean_Savings','Per_Capita_Income','Percent_Poverty'])"
   ]
  },
  {
   "cell_type": "markdown",
   "metadata": {},
   "source": [
    "## **Q5. Find the next best regressor**"
   ]
  },
  {
   "cell_type": "markdown",
   "metadata": {},
   "source": [
    "_Uses a list of given regressors. Tracks maximum rsqs and regressors. Compares current regressor list with list of all other regressors. Calculates rsqs for each of non-given regressors and returns tuple of regressor with highest R-squared value._"
   ]
  },
  {
   "cell_type": "code",
   "execution_count": 150,
   "metadata": {},
   "outputs": [],
   "source": [
    "def best_next_regressor(current_regressor_list, all_regressors_list):\n",
    "    max_rsq = 0\n",
    "    max_regressor = ''\n",
    "    \n",
    "    for regressor in all_regressors_list:\n",
    "        if regressor in current_regressor_list:\n",
    "            continue\n",
    "            \n",
    "        l = copy.deepcopy(current_regressor_list)\n",
    "        l.append(regressor)\n",
    "        rsq = rsquared(l)\n",
    "        \n",
    "        if rsq > max_rsq:\n",
    "            max_rsq = rsq\n",
    "            max_regressor = regressor\n",
    "    \n",
    "    return max_regressor, max_rsq\n",
    "        "
   ]
  },
  {
   "cell_type": "code",
   "execution_count": 151,
   "metadata": {},
   "outputs": [
    {
     "data": {
      "text/plain": [
       "('Population_Density', 0.2940949050174445)"
      ]
     },
     "execution_count": 151,
     "metadata": {},
     "output_type": "execute_result"
    }
   ],
   "source": [
    "all_regressors = list(df)[1:]\n",
    "current_regressors = ['Median_Age', 'Mean_Savings', 'Percent_Poverty']\n",
    "x = best_next_regressor(current_regressor_list=current_regressors, all_regressors_list=all_regressors)\n",
    "x"
   ]
  },
  {
   "cell_type": "code",
   "execution_count": 152,
   "metadata": {},
   "outputs": [
    {
     "data": {
      "text/plain": [
       "('Percent_Poverty', 0.2510385196163204)"
      ]
     },
     "execution_count": 152,
     "metadata": {},
     "output_type": "execute_result"
    }
   ],
   "source": [
    "y = best_next_regressor([], all_regressors)\n",
    "y  # the single best individual regressor"
   ]
  },
  {
   "cell_type": "markdown",
   "metadata": {},
   "source": [
    "## **Q6. Pick the _k_ best next regressors**"
   ]
  },
  {
   "cell_type": "markdown",
   "metadata": {},
   "source": [
    "_Make lists to contain regressors and R-squareds. Uses the best next regressors function to find each next-highest regressor and its r-squared value and add them to their respective lists. Returns a tuple of the regressor and R-squared lists._"
   ]
  },
  {
   "cell_type": "code",
   "execution_count": 153,
   "metadata": {},
   "outputs": [],
   "source": [
    "# The question statement was vague about whether or not we pass in a list of current regressors\n",
    "# as a parameter to use for best_next_regressor. Therefore, I included it as an \"optional\" parameter\n",
    "# with a default value that assumes current_regressors_list is []\n",
    "\n",
    "def best_regressors(num_regressors, all_regressors_list, current_regressor_list=[]):\n",
    "    regressors = []\n",
    "    rsqs = []\n",
    "    use_list = copy.deepcopy(all_regressors_list)\n",
    "    \n",
    "    for i in range(num_regressors):\n",
    "        max_regressor, rsq = best_next_regressor(current_regressor_list, use_list)\n",
    "        \n",
    "        regressors.append(max_regressor)\n",
    "        rsqs.append(rsq)\n",
    "        use_list.remove(max_regressor)\n",
    "        \n",
    "    return regressors, rsqs"
   ]
  },
  {
   "cell_type": "code",
   "execution_count": 154,
   "metadata": {},
   "outputs": [
    {
     "data": {
      "text/plain": [
       "(['Percent_Poverty',\n",
       "  'Percent_Female',\n",
       "  'Per_Capita_Income',\n",
       "  'Population_Density'],\n",
       " [0.2510385196163204,\n",
       "  0.07225274313389196,\n",
       "  0.05045877139552979,\n",
       "  0.03404175013622768])"
      ]
     },
     "execution_count": 154,
     "metadata": {},
     "output_type": "execute_result"
    }
   ],
   "source": [
    "best_regressors(4, all_regressors)"
   ]
  },
  {
   "cell_type": "code",
   "execution_count": 155,
   "metadata": {},
   "outputs": [
    {
     "data": {
      "text/plain": [
       "(['Percent_Female',\n",
       "  'Mean_Savings',\n",
       "  'Percent_Nursing_Homes',\n",
       "  'Percent_Veterans'],\n",
       " [0.30914506632485783,\n",
       "  0.29027454201038905,\n",
       "  0.2877891518418999,\n",
       "  0.2877086709828366])"
      ]
     },
     "execution_count": 155,
     "metadata": {},
     "output_type": "execute_result"
    }
   ],
   "source": [
    "best_regressors(4, all_regressors, current_regressor_list=['Percent_Poverty', 'Population_Density'])"
   ]
  },
  {
   "cell_type": "markdown",
   "metadata": {},
   "source": [
    "## **Q7. Order all regressors in the best order**"
   ]
  },
  {
   "cell_type": "markdown",
   "metadata": {},
   "source": [
    "_Loops through a list of all regressors. While the list isn't empty, finds the next best regressor and appends it to a list of current regressors. In the next iteration, finds the next best regressor taking into account current regressors, and appends that to the list of current regressors, until all regressor list is empty_"
   ]
  },
  {
   "cell_type": "code",
   "execution_count": 156,
   "metadata": {
    "scrolled": true
   },
   "outputs": [
    {
     "name": "stdout",
     "output_type": "stream",
     "text": [
      "Percent_Poverty    0.2510385196163204\n",
      "Population_Density    0.2858298022910576\n",
      "Percent_Female    0.30914506632485783\n",
      "Mean_Savings    0.3192411850237048\n",
      "Percent_Veterans    0.32299256887291705\n",
      "Percent_Nursing_Homes    0.3248512713869368\n",
      "Per_Capita_Income    0.3258249238995897\n",
      "Crime_Index    0.3265532557049271\n",
      "Median_Age    0.3269003872517413\n"
     ]
    }
   ],
   "source": [
    "current_regressors = []\n",
    "rsqs = []\n",
    "all_regressors = list(df)[1:]\n",
    "\n",
    "while all_regressors != []:\n",
    "    regressor, rsq = best_regressors(1, all_regressors, current_regressor_list=current_regressors)\n",
    "    current_regressors.append(regressor[0])\n",
    "    rsqs.append(rsq[0])\n",
    "    print regressor[0] + \"    \" + str(rsq[0])\n",
    "    all_regressors.remove(regressor[0])"
   ]
  },
  {
   "cell_type": "markdown",
   "metadata": {},
   "source": [
    "## **Q8. Plot the R-squared values as regressors are added in the best order.**"
   ]
  },
  {
   "cell_type": "markdown",
   "metadata": {},
   "source": [
    "_We kept track of a list of regressors and R-squareds in the previous problem, so we use them to create a series and plot the series._"
   ]
  },
  {
   "cell_type": "code",
   "execution_count": 157,
   "metadata": {},
   "outputs": [
    {
     "data": {
      "text/plain": [
       "<matplotlib.axes._subplots.AxesSubplot at 0x11019c88>"
      ]
     },
     "execution_count": 157,
     "metadata": {},
     "output_type": "execute_result"
    },
    {
     "data": {
      "image/png": "[encoded data removed]",
      "text/plain": [
       "<matplotlib.figure.Figure at 0xeac5eb8>"
      ]
     },
     "metadata": {},
     "output_type": "display_data"
    }
   ],
   "source": [
    "dictionary = dict(zip(current_regressors, rsqs))\n",
    "s = Series(dictionary)\n",
    "s.sort_values().plot(kind='bar')"
   ]
  },
  {
   "cell_type": "markdown",
   "metadata": {},
   "source": [
    "## **Q9. Create  a  classification  target.**"
   ]
  },
  {
   "cell_type": "markdown",
   "metadata": {},
   "source": [
    "_Attach a new column, called target to the DataFrame, whose value for each row is either 1 (if percentVoting is at least 40.0), or 0 (percentVoting is less than 40.0)_\n",
    "\n",
    "_Approach: create 'target' in the entire DataFrame intially as 0, and change the values to 1 where percentVoting >= 40.0_"
   ]
  },
  {
   "cell_type": "code",
   "execution_count": 174,
   "metadata": {},
   "outputs": [
    {
     "name": "stderr",
     "output_type": "stream",
     "text": [
      "C:\\Users\\jeile\\Anaconda3\\envs\\chakra\\lib\\site-packages\\ipykernel_launcher.py:3: SettingWithCopyWarning: \n",
      "A value is trying to be set on a copy of a slice from a DataFrame\n",
      "\n",
      "See the caveats in the documentation: http://pandas.pydata.org/pandas-docs/stable/indexing.html#indexing-view-versus-copy\n",
      "  This is separate from the ipykernel package so we can avoid doing imports until\n"
     ]
    }
   ],
   "source": [
    "df['target'] = 0\n",
    "mask = df['percentVoting'] >= 40.0\n",
    "df['target'][mask] = 1"
   ]
  },
  {
   "cell_type": "markdown",
   "metadata": {},
   "source": [
    "## **Q10. Create  training  and  test  sets.**"
   ]
  },
  {
   "cell_type": "markdown",
   "metadata": {},
   "source": [
    "_Create design matrices for predicting the target using just the two features poverty and population density. Split this into design matrices for training and testing datasets, with 70% of the data being used for training, and 30% for testing._\n",
    "\n",
    "_Approach: create a subset of df using .copy() to use dmatrices to create the training and test sets using train-test-split_"
   ]
  },
  {
   "cell_type": "code",
   "execution_count": 175,
   "metadata": {},
   "outputs": [],
   "source": [
    "df_copy = df[['Percent_Poverty','Population_Density','target']].copy()\n",
    "\n",
    "y, X = dmatrices('target ~ 0 + Percent_Poverty + Population_Density',\n",
    "                df_copy, return_type = 'dataframe')"
   ]
  },
  {
   "cell_type": "code",
   "execution_count": 176,
   "metadata": {},
   "outputs": [],
   "source": [
    "X_train, X_test, y_train, y_test = train_test_split(X,y,test_size=.3,random_state=1)"
   ]
  },
  {
   "cell_type": "markdown",
   "metadata": {},
   "source": [
    "## **Q11. Accuracy of classification.**"
   ]
  },
  {
   "cell_type": "markdown",
   "metadata": {},
   "source": [
    "_Use a K-nearest neighbors classifier to predict the target using the two given features, using 1,3,5,10,20,50,100,and 1000 nearest neighbors respectively. Print out the training and test accuracy for each of these._\n",
    "\n",
    "_Approach: create a list called models in order to loop through each number of nearest neighbors. For every model, print the accuracy on Training and Test data._"
   ]
  },
  {
   "cell_type": "code",
   "execution_count": 177,
   "metadata": {},
   "outputs": [],
   "source": [
    "from sklearn import neighbors\n",
    "from sklearn import metrics\n",
    "\n",
    "models =[]\n",
    "k = [1,3,5,10,20,50,100,1000]\n",
    "\n",
    "for i in k:\n",
    "    model = neighbors.KNeighborsClassifier(n_neighbors = i, weights='uniform', p=2)\n",
    "    models.append(model)"
   ]
  },
  {
   "cell_type": "code",
   "execution_count": 178,
   "metadata": {},
   "outputs": [
    {
     "name": "stderr",
     "output_type": "stream",
     "text": [
      "C:\\Users\\jeile\\Anaconda3\\envs\\chakra\\lib\\site-packages\\ipykernel_launcher.py:2: DataConversionWarning: A column-vector y was passed when a 1d array was expected. Please change the shape of y to (n_samples, ), for example using ravel().\n",
      "  \n"
     ]
    },
    {
     "name": "stdout",
     "output_type": "stream",
     "text": [
      "Number of nearest neighbors: 1\n",
      "Training Data Accuracy: 0.9978858350951374\n",
      "Test Data Accuracy: 0.6009852216748769\n",
      "\n",
      "Number of nearest neighbors: 3\n",
      "Training Data Accuracy: 0.7880549682875264\n",
      "Test Data Accuracy: 0.6354679802955665\n",
      "\n",
      "Number of nearest neighbors: 5\n",
      "Training Data Accuracy: 0.7484143763213531\n",
      "Test Data Accuracy: 0.6305418719211823\n",
      "\n",
      "Number of nearest neighbors: 10\n",
      "Training Data Accuracy: 0.7204016913319239\n",
      "Test Data Accuracy: 0.646551724137931\n",
      "\n",
      "Number of nearest neighbors: 20\n",
      "Training Data Accuracy: 0.6902748414376322\n",
      "Test Data Accuracy: 0.6588669950738916\n",
      "\n",
      "Number of nearest neighbors: 50\n",
      "Training Data Accuracy: 0.6839323467230444\n",
      "Test Data Accuracy: 0.6625615763546798\n",
      "\n",
      "Number of nearest neighbors: 100\n",
      "Training Data Accuracy: 0.6775898520084567\n",
      "Test Data Accuracy: 0.6637931034482759\n",
      "\n",
      "Number of nearest neighbors: 1000\n",
      "Training Data Accuracy: 0.5671247357293869\n",
      "Test Data Accuracy: 0.5763546798029556\n",
      "\n"
     ]
    }
   ],
   "source": [
    "for m in models:\n",
    "    m.fit(X_train, y_train)\n",
    "    prediction_on_training = m.predict(X_train)\n",
    "    print(\"Number of nearest neighbors: \" + str(m.n_neighbors))\n",
    "    print( \"Training Data Accuracy: \" +  str(metrics.accuracy_score(y_train, prediction_on_training)))\n",
    "    prediction_on_test = m.predict(X_test)\n",
    "    print( \"Test Data Accuracy: \" +  str(metrics.accuracy_score(y_test, prediction_on_test)))\n",
    "    print"
   ]
  },
  {
   "cell_type": "markdown",
   "metadata": {},
   "source": [
    "## **Q12. Plots and reasons.**"
   ]
  },
  {
   "cell_type": "markdown",
   "metadata": {},
   "source": [
    "_Show a scatter plot of population density versus poverty, and color the points according to the target (i.e., each point\n",
    "in the scatter plot represents a county, and the color of the county depends on the value of target for that county). Can you interpret the plot? What types of counties voted for Bill Clinton?_\n",
    "\n",
    "_Approach: self-explanatory, zoomed in on scatterplot using xlim to truncate the outliers (for example, 'Kings, NY')_"
   ]
  },
  {
   "cell_type": "code",
   "execution_count": 179,
   "metadata": {},
   "outputs": [
    {
     "data": {
      "text/plain": [
       "(0, 5000)"
      ]
     },
     "execution_count": 179,
     "metadata": {},
     "output_type": "execute_result"
    },
    {
     "data": {
      "image/png": "[encoded data removed]",
      "text/plain": [
       "<matplotlib.figure.Figure at 0x1156ed68>"
      ]
     },
     "metadata": {},
     "output_type": "display_data"
    }
   ],
   "source": [
    "y = y['target'].values\n",
    "sc = scatter(X['Population_Density'], X['Percent_Poverty'], c=y, cmap='bwr')\n",
    "xlabel('Population Density')\n",
    "ylabel('Poverty Percentage')\n",
    "xlim(0,5000)"
   ]
  },
  {
   "cell_type": "markdown",
   "metadata": {},
   "source": [
    "As both population density and poverty percentage increase, a county is more likely to have cast more than 40% of their votes for Clinton. Thus, the counties that voted for Clinton had high levels of poverty and were more dense, suggesting that they were urban. At lower levels of population density, counties with a higher poverty percentage favored Clinton. "
   ]
  }
 ],
 "metadata": {
  "kernelspec": {
   "display_name": "Python 2",
   "language": "python",
   "name": "python2"
  },
  "language_info": {
   "codemirror_mode": {
    "name": "ipython",
    "version": 2
   },
   "file_extension": ".py",
   "mimetype": "text/x-python",
   "name": "python",
   "nbconvert_exporter": "python",
   "pygments_lexer": "ipython2",
   "version": "2.7.14"
  }
 },
 "nbformat": 4,
 "nbformat_minor": 2
}
