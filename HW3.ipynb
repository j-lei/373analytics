{
 "cells": [
  {
   "cell_type": "code",
   "execution_count": 1,
   "metadata": {},
   "outputs": [
    {
     "name": "stdout",
     "output_type": "stream",
     "text": [
      "Populating the interactive namespace from numpy and matplotlib\n"
     ]
    },
    {
     "name": "stderr",
     "output_type": "stream",
     "text": [
      "C:\\Users\\lcste\\Anaconda2\\lib\\site-packages\\statsmodels\\compat\\pandas.py:56: FutureWarning: The pandas.core.datetools module is deprecated and will be removed in a future version. Please use the pandas.tseries module instead.\n",
      "  from pandas.core import datetools\n"
     ]
    }
   ],
   "source": [
    "import pandas as pd\n",
    "from pandas import DataFrame\n",
    "from pandas import Series\n",
    "%pylab inline\n",
    "\n",
    "# Special packages\n",
    "import statsmodels.api as sm\n",
    "from patsy import dmatrices\n",
    "from sklearn.model_selection import train_test_split"
   ]
  },
  {
   "cell_type": "markdown",
   "metadata": {},
   "source": [
    "## **Q1. Read the data.**"
   ]
  },
  {
   "cell_type": "markdown",
   "metadata": {},
   "source": [
    "_Read in the data from http://www.stat.ufl.edu/~winner/data/clinton1.dat. Note that this is NOT a CSV file. The description of the data fields are present in http://www.stat.ufl.edu/~winner/data/clinton1.txt. You will have  to  figure  out  the  rightparameters for thereadcsvcommand yourself (e.g., the regular expressionfor the delimiter, and the names of the columns)._"
   ]
  },
  {
   "cell_type": "code",
   "execution_count": 2,
   "metadata": {},
   "outputs": [
    {
     "name": "stderr",
     "output_type": "stream",
     "text": [
      "C:\\Users\\lcste\\Anaconda2\\lib\\site-packages\\ipykernel_launcher.py:15: ParserWarning: Falling back to the 'python' engine because the 'c' engine does not support regex separators (separators > 1 char and different from '\\s+' are interpreted as regex); you can avoid this warning by specifying engine='python'.\n",
      "  from ipykernel import kernelapp as app\n"
     ]
    }
   ],
   "source": [
    "df = pd.read_table('http://users.stat.ufl.edu/~winner/data/clinton1.dat',\n",
    "                    header = None,\n",
    "                    names = ['County_Name',\n",
    "                            'percentVoting',\n",
    "                            'Median_Age',\n",
    "                            'Mean_Savings',\n",
    "                            'Per_Capita_Income',\n",
    "                            'Percent_Poverty',\n",
    "                            'Percent_Veterans',\n",
    "                            'Percent_Female',\n",
    "                            'Population_Density',\n",
    "                            'Percent_Nursing_Homes',\n",
    "                            'Crime_Index'],\n",
    "                   sep = '\\s{2,}',\n",
    "                   index_col = 0)"
   ]
  },
  {
   "cell_type": "code",
   "execution_count": 3,
   "metadata": {},
   "outputs": [
    {
     "data": {
      "text/html": [
       "<div>\n",
       "<style scoped>\n",
       "    .dataframe tbody tr th:only-of-type {\n",
       "        vertical-align: middle;\n",
       "    }\n",
       "\n",
       "    .dataframe tbody tr th {\n",
       "        vertical-align: top;\n",
       "    }\n",
       "\n",
       "    .dataframe thead th {\n",
       "        text-align: right;\n",
       "    }\n",
       "</style>\n",
       "<table border=\"1\" class=\"dataframe\">\n",
       "  <thead>\n",
       "    <tr style=\"text-align: right;\">\n",
       "      <th></th>\n",
       "      <th>percentVoting</th>\n",
       "      <th>Median_Age</th>\n",
       "      <th>Mean_Savings</th>\n",
       "      <th>Per_Capita_Income</th>\n",
       "      <th>Percent_Poverty</th>\n",
       "      <th>Percent_Veterans</th>\n",
       "      <th>Percent_Female</th>\n",
       "      <th>Population_Density</th>\n",
       "      <th>Percent_Nursing_Homes</th>\n",
       "      <th>Crime_Index</th>\n",
       "    </tr>\n",
       "    <tr>\n",
       "      <th>County_Name</th>\n",
       "      <th></th>\n",
       "      <th></th>\n",
       "      <th></th>\n",
       "      <th></th>\n",
       "      <th></th>\n",
       "      <th></th>\n",
       "      <th></th>\n",
       "      <th></th>\n",
       "      <th></th>\n",
       "      <th></th>\n",
       "    </tr>\n",
       "  </thead>\n",
       "  <tbody>\n",
       "    <tr>\n",
       "      <th>Autauga, AL</th>\n",
       "      <td>30.92</td>\n",
       "      <td>31.7</td>\n",
       "      <td>57623</td>\n",
       "      <td>15768</td>\n",
       "      <td>15.2</td>\n",
       "      <td>10.74</td>\n",
       "      <td>51.41</td>\n",
       "      <td>60.4</td>\n",
       "      <td>2.36</td>\n",
       "      <td>457</td>\n",
       "    </tr>\n",
       "    <tr>\n",
       "      <th>Baldwin, AL</th>\n",
       "      <td>26.24</td>\n",
       "      <td>35.5</td>\n",
       "      <td>84935</td>\n",
       "      <td>16954</td>\n",
       "      <td>13.6</td>\n",
       "      <td>9.73</td>\n",
       "      <td>51.34</td>\n",
       "      <td>66.5</td>\n",
       "      <td>5.40</td>\n",
       "      <td>282</td>\n",
       "    </tr>\n",
       "    <tr>\n",
       "      <th>Barbour, AL</th>\n",
       "      <td>46.36</td>\n",
       "      <td>32.8</td>\n",
       "      <td>83656</td>\n",
       "      <td>15532</td>\n",
       "      <td>25.0</td>\n",
       "      <td>8.82</td>\n",
       "      <td>53.03</td>\n",
       "      <td>28.8</td>\n",
       "      <td>7.02</td>\n",
       "      <td>47</td>\n",
       "    </tr>\n",
       "    <tr>\n",
       "      <th>Blount, AL</th>\n",
       "      <td>32.92</td>\n",
       "      <td>34.5</td>\n",
       "      <td>61249</td>\n",
       "      <td>14820</td>\n",
       "      <td>15.0</td>\n",
       "      <td>9.67</td>\n",
       "      <td>51.15</td>\n",
       "      <td>62.4</td>\n",
       "      <td>2.36</td>\n",
       "      <td>185</td>\n",
       "    </tr>\n",
       "    <tr>\n",
       "      <th>Bullock, AL</th>\n",
       "      <td>67.67</td>\n",
       "      <td>31.7</td>\n",
       "      <td>75725</td>\n",
       "      <td>11120</td>\n",
       "      <td>33.0</td>\n",
       "      <td>7.08</td>\n",
       "      <td>50.76</td>\n",
       "      <td>17.6</td>\n",
       "      <td>2.91</td>\n",
       "      <td>141</td>\n",
       "    </tr>\n",
       "    <tr>\n",
       "      <th>Butler, AL</th>\n",
       "      <td>47.43</td>\n",
       "      <td>33.5</td>\n",
       "      <td>75887</td>\n",
       "      <td>12015</td>\n",
       "      <td>27.1</td>\n",
       "      <td>9.48</td>\n",
       "      <td>53.25</td>\n",
       "      <td>28.1</td>\n",
       "      <td>7.98</td>\n",
       "      <td>266</td>\n",
       "    </tr>\n",
       "    <tr>\n",
       "      <th>Calhoun, AL</th>\n",
       "      <td>38.44</td>\n",
       "      <td>32.7</td>\n",
       "      <td>76073</td>\n",
       "      <td>15162</td>\n",
       "      <td>18.0</td>\n",
       "      <td>11.95</td>\n",
       "      <td>51.66</td>\n",
       "      <td>190.8</td>\n",
       "      <td>4.81</td>\n",
       "      <td>560</td>\n",
       "    </tr>\n",
       "    <tr>\n",
       "      <th>Chambers, AL</th>\n",
       "      <td>45.36</td>\n",
       "      <td>34.8</td>\n",
       "      <td>40498</td>\n",
       "      <td>13887</td>\n",
       "      <td>18.8</td>\n",
       "      <td>10.52</td>\n",
       "      <td>52.77</td>\n",
       "      <td>62.1</td>\n",
       "      <td>6.15</td>\n",
       "      <td>218</td>\n",
       "    </tr>\n",
       "    <tr>\n",
       "      <th>Cherokee, AL</th>\n",
       "      <td>53.61</td>\n",
       "      <td>36.3</td>\n",
       "      <td>56386</td>\n",
       "      <td>13936</td>\n",
       "      <td>15.4</td>\n",
       "      <td>9.29</td>\n",
       "      <td>50.82</td>\n",
       "      <td>35.8</td>\n",
       "      <td>5.61</td>\n",
       "      <td>51</td>\n",
       "    </tr>\n",
       "    <tr>\n",
       "      <th>Chilton, AL</th>\n",
       "      <td>34.19</td>\n",
       "      <td>34.0</td>\n",
       "      <td>52230</td>\n",
       "      <td>14036</td>\n",
       "      <td>18.6</td>\n",
       "      <td>9.48</td>\n",
       "      <td>51.41</td>\n",
       "      <td>47.8</td>\n",
       "      <td>3.58</td>\n",
       "      <td>296</td>\n",
       "    </tr>\n",
       "  </tbody>\n",
       "</table>\n",
       "</div>"
      ],
      "text/plain": [
       "              percentVoting  Median_Age  Mean_Savings  Per_Capita_Income  \\\n",
       "County_Name                                                                \n",
       "Autauga, AL           30.92        31.7         57623              15768   \n",
       "Baldwin, AL           26.24        35.5         84935              16954   \n",
       "Barbour, AL           46.36        32.8         83656              15532   \n",
       "Blount, AL            32.92        34.5         61249              14820   \n",
       "Bullock, AL           67.67        31.7         75725              11120   \n",
       "Butler, AL            47.43        33.5         75887              12015   \n",
       "Calhoun, AL           38.44        32.7         76073              15162   \n",
       "Chambers, AL          45.36        34.8         40498              13887   \n",
       "Cherokee, AL          53.61        36.3         56386              13936   \n",
       "Chilton, AL           34.19        34.0         52230              14036   \n",
       "\n",
       "              Percent_Poverty  Percent_Veterans  Percent_Female  \\\n",
       "County_Name                                                       \n",
       "Autauga, AL              15.2             10.74           51.41   \n",
       "Baldwin, AL              13.6              9.73           51.34   \n",
       "Barbour, AL              25.0              8.82           53.03   \n",
       "Blount, AL               15.0              9.67           51.15   \n",
       "Bullock, AL              33.0              7.08           50.76   \n",
       "Butler, AL               27.1              9.48           53.25   \n",
       "Calhoun, AL              18.0             11.95           51.66   \n",
       "Chambers, AL             18.8             10.52           52.77   \n",
       "Cherokee, AL             15.4              9.29           50.82   \n",
       "Chilton, AL              18.6              9.48           51.41   \n",
       "\n",
       "              Population_Density  Percent_Nursing_Homes  Crime_Index  \n",
       "County_Name                                                           \n",
       "Autauga, AL                 60.4                   2.36          457  \n",
       "Baldwin, AL                 66.5                   5.40          282  \n",
       "Barbour, AL                 28.8                   7.02           47  \n",
       "Blount, AL                  62.4                   2.36          185  \n",
       "Bullock, AL                 17.6                   2.91          141  \n",
       "Butler, AL                  28.1                   7.98          266  \n",
       "Calhoun, AL                190.8                   4.81          560  \n",
       "Chambers, AL                62.1                   6.15          218  \n",
       "Cherokee, AL                35.8                   5.61           51  \n",
       "Chilton, AL                 47.8                   3.58          296  "
      ]
     },
     "execution_count": 3,
     "metadata": {},
     "output_type": "execute_result"
    }
   ],
   "source": [
    "df[:10]"
   ]
  },
  {
   "cell_type": "markdown",
   "metadata": {},
   "source": [
    "## **Q9. Create  a  classification  target.**"
   ]
  },
  {
   "cell_type": "markdown",
   "metadata": {},
   "source": [
    "_Attach a new column, called target to the DataFrame, whose value for each row is either 1 (if percentVoting is at least 40.0), or 0 (percentVoting is less than 40.0)_\n",
    "\n",
    "_Approach: create 'target' in the entire DataFrame intially as 0, and change the values to 1 where percentVoting >= 40.0_"
   ]
  },
  {
   "cell_type": "code",
   "execution_count": 4,
   "metadata": {},
   "outputs": [
    {
     "name": "stderr",
     "output_type": "stream",
     "text": [
      "C:\\Users\\lcste\\Anaconda2\\lib\\site-packages\\ipykernel_launcher.py:3: SettingWithCopyWarning: \n",
      "A value is trying to be set on a copy of a slice from a DataFrame\n",
      "\n",
      "See the caveats in the documentation: http://pandas.pydata.org/pandas-docs/stable/indexing.html#indexing-view-versus-copy\n",
      "  This is separate from the ipykernel package so we can avoid doing imports until\n"
     ]
    }
   ],
   "source": [
    "df['target'] = 0\n",
    "mask = df['percentVoting'] >= 40.0\n",
    "df['target'][mask] = 1"
   ]
  },
  {
   "cell_type": "markdown",
   "metadata": {},
   "source": [
    "## **Q10. Create  training  and  test  sets.**"
   ]
  },
  {
   "cell_type": "markdown",
   "metadata": {},
   "source": [
    "_Create design matrices for predicting the target using just the two features poverty and population density. Split this into design matrices for training and testing datasets, with 70% of the data being used for training, and 30% for testing._\n",
    "\n",
    "_Approach: create a subset of df using .copy() to use dmatrices to create the training and test sets using train-test-split_"
   ]
  },
  {
   "cell_type": "code",
   "execution_count": 5,
   "metadata": {},
   "outputs": [],
   "source": [
    "df_copy = df[['Percent_Poverty','Population_Density','target']].copy()\n",
    "\n",
    "y, X = dmatrices('target ~ 0 + Percent_Poverty + Population_Density',\n",
    "                df_copy, return_type = 'dataframe')"
   ]
  },
  {
   "cell_type": "code",
   "execution_count": 6,
   "metadata": {},
   "outputs": [],
   "source": [
    "X_train, X_test, y_train, y_test = train_test_split(X,y,test_size=.3,random_state=1)"
   ]
  },
  {
   "cell_type": "markdown",
   "metadata": {},
   "source": [
    "## **Q11. Accuracy of classification.**"
   ]
  },
  {
   "cell_type": "markdown",
   "metadata": {},
   "source": [
    "_Use a K-nearest neighbors classifier to predict the target using the two given features, using 1,3,5,10,20,50,100,and 1000 nearest neighbors respectively. Print out the training and test accuracy for each of these._\n",
    "\n",
    "_Approach: create a list called models in order to loop through each number of nearest neighbors. For every model, print the accuracy on Training and Test data._"
   ]
  },
  {
   "cell_type": "code",
   "execution_count": 7,
   "metadata": {},
   "outputs": [],
   "source": [
    "from sklearn import neighbors\n",
    "from sklearn import metrics\n",
    "\n",
    "models =[]\n",
    "k = [1,3,5,10,20,50,100,1000]\n",
    "\n",
    "for i in k:\n",
    "    model = neighbors.KNeighborsClassifier(n_neighbors = i, weights='uniform', p=2)\n",
    "    models.append(model)"
   ]
  },
  {
   "cell_type": "code",
   "execution_count": 8,
   "metadata": {},
   "outputs": [
    {
     "name": "stderr",
     "output_type": "stream",
     "text": [
      "C:\\Users\\lcste\\Anaconda2\\lib\\site-packages\\ipykernel_launcher.py:2: DataConversionWarning: A column-vector y was passed when a 1d array was expected. Please change the shape of y to (n_samples, ), for example using ravel().\n",
      "  \n"
     ]
    },
    {
     "name": "stdout",
     "output_type": "stream",
     "text": [
      "Number of nearest neighbors: 1\n",
      "Training Data Accuracy: 0.997885835095\n",
      "Test Data Accuracy: 0.600985221675\n",
      "\n",
      "Number of nearest neighbors: 3\n",
      "Training Data Accuracy: 0.788054968288\n",
      "Test Data Accuracy: 0.635467980296\n",
      "\n",
      "Number of nearest neighbors: 5\n",
      "Training Data Accuracy: 0.748414376321\n",
      "Test Data Accuracy: 0.630541871921\n",
      "\n",
      "Number of nearest neighbors: 10\n",
      "Training Data Accuracy: 0.720401691332\n",
      "Test Data Accuracy: 0.646551724138\n",
      "\n",
      "Number of nearest neighbors: 20\n",
      "Training Data Accuracy: 0.690274841438\n",
      "Test Data Accuracy: 0.658866995074\n",
      "\n",
      "Number of nearest neighbors: 50\n",
      "Training Data Accuracy: 0.683932346723\n",
      "Test Data Accuracy: 0.662561576355\n",
      "\n",
      "Number of nearest neighbors: 100\n",
      "Training Data Accuracy: 0.677589852008\n",
      "Test Data Accuracy: 0.663793103448\n",
      "\n",
      "Number of nearest neighbors: 1000\n",
      "Training Data Accuracy: 0.567124735729\n",
      "Test Data Accuracy: 0.576354679803\n",
      "\n"
     ]
    }
   ],
   "source": [
    "for m in models:\n",
    "    m.fit(X_train, y_train)\n",
    "    prediction_on_training = m.predict(X_train)\n",
    "    print(\"Number of nearest neighbors: \" + str(m.n_neighbors))\n",
    "    print( \"Training Data Accuracy: \" +  str(metrics.accuracy_score(y_train, prediction_on_training)))\n",
    "    prediction_on_test = m.predict(X_test)\n",
    "    print( \"Test Data Accuracy: \" +  str(metrics.accuracy_score(y_test, prediction_on_test)))\n",
    "    print"
   ]
  },
  {
   "cell_type": "markdown",
   "metadata": {},
   "source": [
    "## **Q12. Plots and reasons.**"
   ]
  },
  {
   "cell_type": "markdown",
   "metadata": {},
   "source": [
    "_Show a scatter plot of population density versus poverty, and color the points according to the target (i.e., each point\n",
    "in the scatter plot represents a county, and the color of the county depends on the value of target for that county). Can you interpret the plot? What types of counties voted for Bill Clinton?_\n",
    "\n",
    "_Approach: self-explanatory, zoomed in on scatterplot using xlim to truncate the outliers (for example, 'Kings, NY')_"
   ]
  },
  {
   "cell_type": "code",
   "execution_count": 11,
   "metadata": {},
   "outputs": [
    {
     "data": {
      "text/plain": [
       "(0, 5000)"
      ]
     },
     "execution_count": 11,
     "metadata": {},
     "output_type": "execute_result"
    },
    {
     "data": {
      "image/png": "[encoded data removed]",
      "text/plain": [
       "<matplotlib.figure.Figure at 0xfc05ba8>"
      ]
     },
     "metadata": {},
     "output_type": "display_data"
    }
   ],
   "source": [
    "y = y['target'].values\n",
    "sc = scatter(X['Population_Density'], X['Percent_Poverty'], c=y, cmap='bwr')\n",
    "xlabel('Population Density')\n",
    "ylabel('Poverty Percentage')\n",
    "xlim(0,5000)"
   ]
  },
  {
   "cell_type": "markdown",
   "metadata": {},
   "source": [
    "As both population density and poverty percentage increase, a county is more likely to have cast more than 40% of their votes for Clinton. Thus, the counties that voted for Clinton had high levels of poverty and were more dense, suggesting that they were urban. At lower levels of population density, counties with a higher poverty percentage favored Clinton. "
   ]
  }
 ],
 "metadata": {
  "kernelspec": {
   "display_name": "Python 2",
   "language": "python",
   "name": "python2"
  },
  "language_info": {
   "codemirror_mode": {
    "name": "ipython",
    "version": 2
   },
   "file_extension": ".py",
   "mimetype": "text/x-python",
   "name": "python",
   "nbconvert_exporter": "python",
   "pygments_lexer": "ipython2",
   "version": "2.7.14"
  }
 },
 "nbformat": 4,
 "nbformat_minor": 2
}
