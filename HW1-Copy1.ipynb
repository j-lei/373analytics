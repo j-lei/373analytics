{
 "cells": [
  {
   "cell_type": "markdown",
   "metadata": {},
   "source": [
    "## **Functions**\n",
    "**Move chooser**  \n",
    "_Accepts:_ dictionary containing player move counts  \n",
    "_Outputs:_ string with \"R\", \"P\", or \"S\"  \n",
    "Prior to the player making any moves, the computer will simply generate something random. Once the dictionary has been populated with player moves, this function will play whichever counters the move with the highest count (calling which_wins to find the counter). If two are tied, this funcntion will play whatever is first in the dictionary.  \n",
    "  \n",
    "**Which wins**  \n",
    "_Accepts:_ 1 string of a move played  \n",
    "_Returns:_ 1 string; returns the move that beats the input move   \n",
    "Uses dictionary that stores a move as a key, and the move that beats it as the value. Returns the value for a given key as input.  \n",
    "  \n",
    "**Validation**  \n",
    "_Accepts:_ 1 string containing user input  \n",
    "_Returns:_ Bool of whether the input is valid or not  \n",
    "Checks if the uppercase version of the user input is either \"R\", \"P\", \"S\", or \"-1\". Returns true if so, false if not.  \n",
    "  \n",
    "**Main**  \n",
    "Contains a loop that runs until user enters sentinel value \"-1\" to quit.  \n",
    "Computer calls move_chooser to make a move or quit.  \n",
    "Computer accepts and validates user input.  \n",
    "If user quits, program exits.  \n",
    "Otherwise, computer increments the player move count dictionary according to the move the player made.  \n",
    "Computer checks if user input and computer move are the same. If so, it prints a draw and restarts the loop.  \n",
    "If not, computer calls which_wins on its move to check if it loses to the user input.  If so, it prints \"USER WINS!\" and restarts the loop.  \n",
    "If not, computer prints \"I WIN!\" and restarts the loop.  "
   ]
  },
  {
   "cell_type": "code",
   "execution_count": 8,
   "metadata": {},
   "outputs": [],
   "source": [
    "import random"
   ]
  },
  {
   "cell_type": "code",
   "execution_count": 2,
   "metadata": {},
   "outputs": [],
   "source": [
    "def which_wins(move):\n",
    "    # dictionary storing move as key, move that defeats it as value\n",
    "    winDict = {\"R\":\"P\", \"P\":\"S\", \"S\":\"R\"}\n",
    "    return winDict[move]"
   ]
  },
  {
   "cell_type": "code",
   "execution_count": 13,
   "metadata": {},
   "outputs": [],
   "source": [
    "def move_chooser(moveDict):\n",
    "    \n",
    "    moves = list(moveDict.keys())\n",
    "    numPlayed = list(moveDict.values())\n",
    "    \n",
    "    if max(numPlayed) == 0:\n",
    "        play = random.randint(0, 2)\n",
    "        return moves[play]\n",
    "    else:\n",
    "        counter = which_wins(moves[numPlayed.index(max(numPlayed))])\n",
    "        return counter"
   ]
  },
  {
   "cell_type": "code",
   "execution_count": 62,
   "metadata": {},
   "outputs": [],
   "source": [
    "def validate(entry):\n",
    "    try:\n",
    "        entry = entry.upper()\n",
    "        if entry in {\"R\", \"P\", \"S\", \"-1\"}:\n",
    "            return True\n",
    "        else:\n",
    "            return False\n",
    "    except:\n",
    "        return False"
   ]
  },
  {
   "cell_type": "code",
   "execution_count": 72,
   "metadata": {},
   "outputs": [
    {
     "name": "stdout",
     "output_type": "stream",
     "text": [
      "Welcome to Rock, Paper, Scissors! Press R to play Rock, P to play Paper, or S to play Scissors. Press -1 to quit. scrioworj\n",
      "Invalid input Please choose R to play Rock, P to play Paper, or S to play Scissors. Press -1 to quit. dlkj\n",
      "Invalid input Please choose R to play Rock, P to play Paper, or S to play Scissors. Press -1 to quit. 1092\n",
      "Invalid input Please choose R to play Rock, P to play Paper, or S to play Scissors. Press -1 to quit. d\n",
      "Invalid input Please choose R to play Rock, P to play Paper, or S to play Scissors. Press -1 to quit. p\n",
      "p\n"
     ]
    }
   ],
   "source": [
    "def main():\n",
    "    \n",
    "    # initalize user move dictionary\n",
    "    moveDict = {\"R\":0, \"P\":0, \"S\":0}\n",
    "    \n",
    "    userInput = raw_input(\"Welcome to Rock, Paper, Scissors! Press R to play Rock, P to play Paper, or S to play Scissors. Press -1 to quit. \")\n",
    "    while (validate(userInput) == False):\n",
    "        userInput = raw_input(\"Invalid input Please choose R to play Rock, P to play Paper, or S to play Scissors. Press -1 to quit. \")\n",
    "    print userInput\n",
    "    \n",
    "main()"
   ]
  },
  {
   "cell_type": "code",
   "execution_count": null,
   "metadata": {},
   "outputs": [],
   "source": []
  },
  {
   "cell_type": "code",
   "execution_count": null,
   "metadata": {},
   "outputs": [],
   "source": []
  }
 ],
 "metadata": {
  "kernelspec": {
   "display_name": "Python 2",
   "language": "python",
   "name": "python2"
  },
  "language_info": {
   "codemirror_mode": {
    "name": "ipython",
    "version": 2
   },
   "file_extension": ".py",
   "mimetype": "text/x-python",
   "name": "python",
   "nbconvert_exporter": "python",
   "pygments_lexer": "ipython2",
   "version": "2.7.14"
  }
 },
 "nbformat": 4,
 "nbformat_minor": 2
}
