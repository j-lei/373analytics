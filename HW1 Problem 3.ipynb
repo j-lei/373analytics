{
 "cells": [
  {
   "cell_type": "code",
   "execution_count": 1,
   "metadata": {},
   "outputs": [],
   "source": [
    "LYRICS = \"skeleton_SamuraiShowdown.txt\"\n",
    "ENDINGS = \"endings.txt\""
   ]
  },
  {
   "cell_type": "code",
   "execution_count": 9,
   "metadata": {},
   "outputs": [],
   "source": [
    "def makeDict(line):\n",
    "    line_list = line.strip().split(\"::\")\n",
    "    # [atmostpheric gas, as, 3]\n",
    "    end_tuple = tuple(line_list[1:])\n",
    "    # (as, 3)\n",
    "    word = line_list[0]\n",
    "    # atmospheric gas\n",
    "    return {end_tuple:word}"
   ]
  },
  {
   "cell_type": "code",
   "execution_count": 10,
   "metadata": {},
   "outputs": [],
   "source": [
    "def searchWord(tupleDict, word):\n",
    "    \"\"\" Accepts a dictionary with a (rhyme, beats) tuple as key and words as values, \n",
    "    searches for inputted word, returns the key\"\"\""
   ]
  },
  {
   "cell_type": "code",
   "execution_count": 11,
   "metadata": {},
   "outputs": [],
   "source": [
    "def makeTuple(numBeats, inTuple):\n",
    "    \"\"\" Accepts the number of beats in the beginning of a line and the tuple of the ending word\n",
    "    returns the tuple to search for in the tuple dict\n",
    "    \"\"\"\n",
    "    # add numBeats to number in tuple\n",
    "    # create new tuple that's the rhyme from inTuple and summed number"
   ]
  },
  {
   "cell_type": "code",
   "execution_count": 12,
   "metadata": {},
   "outputs": [],
   "source": [
    "def anotherMakeTuple(numBeats, inTuple):\n",
    "    \"\"\"accepts number of beats in a line with XXX, subtracts that\n",
    "    from inTuple, makes a new tuple that's got that number of\n",
    "    beats and the rhyme from inTuple and returns it!!!\"\"\""
   ]
  },
  {
   "cell_type": "code",
   "execution_count": 13,
   "metadata": {},
   "outputs": [],
   "source": [
    "def searchTuple(tupleDict, inTuple):\n",
    "    \"\"\"searches tupleDict's keys for inTuple, returns word value\"\"\""
   ]
  },
  {
   "cell_type": "code",
   "execution_count": 14,
   "metadata": {},
   "outputs": [],
   "source": [
    "def main():\n",
    "    # open both files\n",
    "    lyrics = open(LYRICS, \"r\")\n",
    "    endings = open(ENDINGS, \"r\")\n",
    "    \n",
    "    # read through ending file and make endings dictionary\n",
    "    end_dict = {}\n",
    "    for line in endings:\n",
    "        end_dict.update(makeDict(line))\n",
    "    print end_dict\n",
    "    \n",
    "    # close both files\n",
    "    lyrics.close()\n",
    "    endings.close()"
   ]
  },
  {
   "cell_type": "code",
   "execution_count": 15,
   "metadata": {},
   "outputs": [
    {
     "name": "stdout",
     "output_type": "stream",
     "text": [
      "{('us', '3'): 'his magnum opus', ('us', '1'): 'focused', ('ode', '2'): 'unload', ('us', '2'): 'half lotus', ('as', '3'): 'atmospheric gas', ('ode', '4'): 'explode', ('ost', '1'): 'ghost', ('ok', '1'): 'stroke', ('as', '2'): 'full blast', ('ost', '2'): 'lamp post', ('ode', '1'): 'code'}\n"
     ]
    }
   ],
   "source": [
    "main()"
   ]
  },
  {
   "cell_type": "code",
   "execution_count": 17,
   "metadata": {},
   "outputs": [
    {
     "name": "stdout",
     "output_type": "stream",
     "text": [
      "['Struck in an instance,', '4', '']\n"
     ]
    }
   ],
   "source": [
    "line = \"Struck in an instance,::4::\"\n",
    "print line.split(\"::\")"
   ]
  },
  {
   "cell_type": "code",
   "execution_count": null,
   "metadata": {},
   "outputs": [],
   "source": []
  }
 ],
 "metadata": {
  "kernelspec": {
   "display_name": "Python 2",
   "language": "python",
   "name": "python2"
  },
  "language_info": {
   "codemirror_mode": {
    "name": "ipython",
    "version": 2
   },
   "file_extension": ".py",
   "mimetype": "text/x-python",
   "name": "python",
   "nbconvert_exporter": "python",
   "pygments_lexer": "ipython2",
   "version": "2.7.14"
  }
 },
 "nbformat": 4,
 "nbformat_minor": 2
}
