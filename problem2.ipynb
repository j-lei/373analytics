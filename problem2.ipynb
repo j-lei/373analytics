{
 "cells": [
  {
   "cell_type": "markdown",
   "metadata": {},
   "source": [
    "## Functions\n",
    "\n",
    "#### main\n",
    "Reads movies.csv and reogranizes data into a series for easy indexing.\n",
    "Calls getActors to retrieve movie titles, actors in both movies, actors in only the first, and actors only the second.\n",
    "Prints the results.  \n",
    "\n",
    "\n",
    "#### getActors\n",
    "Receives a Series object input of actors with movies as index.\n",
    "Indexes the Series object using user input for two movies. \n",
    "Validates user inputs are correct by checking if movie titles entered are within Series. If not, user is asked to input again until valid.\n",
    "Returns Set objects containing actors in both movies, actors in only the first movie, actors only in the second movie, and strings of the two movie titles. \n"
   ]
  },
  {
   "cell_type": "code",
   "execution_count": 1,
   "metadata": {},
   "outputs": [
    {
     "name": "stderr",
     "output_type": "stream",
     "text": [
      "C:\\Users\\lcste\\Anaconda2\\lib\\site-packages\\ipykernel_launcher.py:3: DeprecationWarning: the sets module is deprecated\n",
      "  This is separate from the ipykernel package so we can avoid doing imports until\n"
     ]
    }
   ],
   "source": [
    "import pandas as pd\n",
    "pd.set_option('display.max_columns', None)\n",
    "import sets"
   ]
  },
  {
   "cell_type": "code",
   "execution_count": 2,
   "metadata": {
    "collapsed": true
   },
   "outputs": [],
   "source": [
    "def main():\n",
    "    \n",
    "    # Read CSV into DataFrame\n",
    "    df = pd.read_csv('movies.csv', header=None)\n",
    "    df.set_index(0, inplace = True)\n",
    "    \n",
    "    # Reorganize into Series to allow for indexing by movie title\n",
    "    t = pd.Series()\n",
    "    for i in df.columns.values:\n",
    "        s = pd.Series(df[i])\n",
    "        t = t.append(s)\n",
    "    \n",
    "    # Drop NaN\n",
    "    mask = t.notnull()\n",
    "    t = t[mask]\n",
    "    t = pd.Series(t.index.values, index = t)\n",
    "    \n",
    "    # Call getActors passing t\n",
    "    actors1, actors2, actorsBoth, movie1, movie2 = getActors(t)\n",
    "    \n",
    "    # Reorganize sets retrieved from getActors into a printable list\n",
    "    tempstrlist =[]\n",
    "    for x in actorsBoth:\n",
    "        tempstrlist.append(x)\n",
    "    \n",
    "    # Print actors in both movies\n",
    "    if(len(actorsBoth) != 0):    \n",
    "        print(\"The actors in both \" + movie1 + \" and \" + movie2 + \" are: \" + ', '.join(tempstrlist) )\n",
    "    else:\n",
    "        print(\"There are no actors in both movies.\")\n",
    "    \n",
    "    # Reorganize sets retrieved from getActors into a printable list\n",
    "    tempstrlist =[]\n",
    "    for x in actors1:\n",
    "        tempstrlist.append(x)\n",
    "    \n",
    "    # Print actors only in the first movie\n",
    "    if(len(actors1) != 0):    \n",
    "        print(\"The actors only in \" + movie1 + \" are: \" + ', '.join(tempstrlist) )\n",
    "    else:\n",
    "        print(\"There are no actors only in \"+ movie1)\n",
    "    \n",
    "    # Reorganize sets retrieved from getActors into a printable list\n",
    "    tempstrlist =[]\n",
    "    for x in actors2:\n",
    "        tempstrlist.append(x)\n",
    "    \n",
    "    # Print actors only in the second movie\n",
    "    if(len(actors2) != 0):    \n",
    "        print(\"The actors only in \" + movie2 + \" are: \" + ', '.join(tempstrlist) )\n",
    "    else:\n",
    "        print(\"There are no actors only in \"+ movie2)"
   ]
  },
  {
   "cell_type": "code",
   "execution_count": 3,
   "metadata": {
    "collapsed": true
   },
   "outputs": [],
   "source": [
    "def getActors(t):\n",
    "    \"\"\"Accepts: 1 Series object containing actor names as values and movie titles as the index\n",
    "    Returns: 3 Set objects containing actors in both movies, actors only in the first, & actors only in the second,\n",
    "    and 2 strings containing user-inputted movie titles\"\"\"\n",
    "    \n",
    "    # Receive user input for first movie\n",
    "    movie1 = raw_input(\"Enter the name of your first movie: \")\n",
    "    \n",
    "    # Forces validation by checking if movie title exists in Series t, which contains all actors \n",
    "    while movie1 not in sets.Set(t.index.values):\n",
    "        print(\"Your movie is not in the database. Please try again.\")\n",
    "        movie1 = raw_input(\"Enter the name of your first movie: \")\n",
    "    \n",
    "    # Receive user input for second movie\n",
    "    movie2 = raw_input(\"Enter the name of your second movie: \")\n",
    "    \n",
    "    # Forces validation by checking if movie title exists in Series t, which contains all actors\n",
    "    while movie2 not in sets.Set(t.index.values):\n",
    "        print(\"Your movie is not in the database. Please try again.\")\n",
    "        movie2 = raw_input(\"Enter the name of your second movie: \")\n",
    "    \n",
    "    # Create Set objects for each movie by indexing series using user input\n",
    "    first = sets.Set(pd.Series(t[movie1]))\n",
    "    second = sets.Set(pd.Series(t[movie2]))\n",
    "    \n",
    "    # Eliminate actors in both movies from each Set\n",
    "    actors1 = first - second\n",
    "    actors2 = second - first\n",
    "    \n",
    "    # Create Set object containing actors in both movies\n",
    "    actorsBoth = first.intersection(second)\n",
    "    \n",
    "    # Return Set objects and movie title strings\n",
    "    return actors1, actors2, actorsBoth, movie1, movie2"
   ]
  },
  {
   "cell_type": "code",
   "execution_count": 4,
   "metadata": {},
   "outputs": [
    {
     "name": "stdout",
     "output_type": "stream",
     "text": [
      "Enter the name of your first movie: Lara Croft Tomb Raider\n",
      "Enter the name of your second movie: Troy\n",
      "There are no actors in both movies.\n",
      "The actors only in Lara Croft Tomb Raider are: Angelina Jolie\n",
      "The actors only in Troy are: Brad Pitt, Diane Kruger\n"
     ]
    }
   ],
   "source": [
    "main()"
   ]
  }
 ],
 "metadata": {
  "kernelspec": {
   "display_name": "Python 2",
   "language": "python",
   "name": "python2"
  },
  "language_info": {
   "codemirror_mode": {
    "name": "ipython",
    "version": 2
   },
   "file_extension": ".py",
   "mimetype": "text/x-python",
   "name": "python",
   "nbconvert_exporter": "python",
   "pygments_lexer": "ipython2",
   "version": "2.7.14"
  }
 },
 "nbformat": 4,
 "nbformat_minor": 2
}
