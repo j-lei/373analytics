{
 "cells": [
  {
   "cell_type": "markdown",
   "metadata": {
    "deletable": true,
    "editable": true
   },
   "source": [
    "## **Functions**  \n",
    "\n",
    "**Make dictionary (makeDict)**  \n",
    "Converts a line in the endings.txt file into a dictionary entry.  \n",
    "For each entry, the **key** is a tuple (rhyme, # beats). The first part of the tuple is the \"sound\" of the ending (rhyme), and the second part is the number of beats the ending contains (# beats).  \n",
    "The **value** is a string that is the ending itself.\n",
    "\n",
    "**Search Word (searchWord)**  \n",
    "Searches the created dictionary of endings on a word (**value**) to return the number of beats and rhyme scheme (**key**) of the particular ending. Then it adds the beats provided from the first half of the line and returns the total beats and rhyme scheme of the line as a tuple (rhyme, # beats). \n",
    "\n",
    "**Search Tuple (searchTuple)**  \n",
    "Subtracts the number of beats in the first part of the current line with number of beats in the previous line to determine the number of beats needed. Then searches the created dictionary of endings as a tuple (rhyme from previous line, # beats needed) as the **key** and returns the word as the **value**.\n",
    "\n",
    "**Main (main)**  \n",
    "Opens and reads each document, first using makeDict to create a dictionary of the endings. Then reads line by line of the song lyrics and determines which function to use (searchWord if there is an ending, searchTuple if there is an XXX, and just printing the line if there is neither). It prints each line as it should appear until there is no more lyrics to finish."
   ]
  },
  {
   "cell_type": "code",
   "execution_count": 51,
   "metadata": {
    "collapsed": true,
    "deletable": true,
    "editable": true
   },
   "outputs": [],
   "source": [
    "LYRICS = \"skeleton_SamuraiShowdown.txt\"\n",
    "ENDINGS = \"endings.txt\""
   ]
  },
  {
   "cell_type": "code",
   "execution_count": 95,
   "metadata": {
    "collapsed": true,
    "deletable": true,
    "editable": true
   },
   "outputs": [],
   "source": [
    "def makeDict(line):\n",
    "    \"\"\"Accepts: 1 string that's a line from the inputted endings.txt\n",
    "    Returns: 1 key:value pair, where the key is a tuple with the (rhyme, # beats) of the ending in the file, \n",
    "    and the value is the word/phrase itself\n",
    "    \"\"\"\n",
    "    \n",
    "    line_list = line.strip().split(\"::\")\n",
    "    line_list[2] = int(line_list[2])\n",
    "    \n",
    "    end_tuple = tuple(line_list[1:])\n",
    "    word = line_list[0]\n",
    "    \n",
    "    return {end_tuple:word}"
   ]
  },
  {
   "cell_type": "code",
   "execution_count": 96,
   "metadata": {
    "collapsed": true,
    "deletable": true,
    "editable": true
   },
   "outputs": [],
   "source": [
    "def searchWord(tupleDict, word, beats):\n",
    "    \"\"\" Accepts: 1 dictionary with (rhyme, # beats) tuples as keys and endings as values, 1 string word to search for, \n",
    "    and 1 integer number of beats in the beginning of a line \n",
    "    Returns: 1 tuple (rhyme, # beats in entire line)\n",
    "    \"\"\"\n",
    "    \n",
    "    word_tuple = tupleDict.keys()[tupleDict.values().index(word)]\n",
    "    new_tuple = tuple([word_tuple[0], word_tuple[1]+beats])\n",
    "    return new_tuple"
   ]
  },
  {
   "cell_type": "code",
   "execution_count": 97,
   "metadata": {
    "collapsed": true,
    "deletable": true,
    "editable": true
   },
   "outputs": [],
   "source": [
    "def searchTuple(tupleDict, inTuple, beats):\n",
    "    \"\"\" Accepts: 1 dictionary with (rhyme, # beats) tuples as keys and endings as values,\n",
    "    1 tuple (rhyme, # beats in entire previous line), \n",
    "    1 integer number of beats in the beginning of the current line\n",
    "    Returns: 1 string ending that fits the ending pattern of the current line\n",
    "    \"\"\"\n",
    "    \n",
    "    new_tuple = tuple([inTuple[0], inTuple[1]-beats])\n",
    "    return tupleDict[new_tuple]"
   ]
  },
  {
   "cell_type": "code",
   "execution_count": 98,
   "metadata": {
    "collapsed": true,
    "deletable": true,
    "editable": true
   },
   "outputs": [],
   "source": [
    "def main():\n",
    "    # open both files\n",
    "    lyrics = open(LYRICS, \"r\")\n",
    "    endings = open(ENDINGS, \"r\")\n",
    "    \n",
    "    # read through ending file and make endings dictionary\n",
    "    end_dict = {}\n",
    "    for line in endings:\n",
    "        end_dict.update(makeDict(line))\n",
    "    \n",
    "    # keeps track of the latest (rhyme, beats in line)\n",
    "    latest_ending = ''\n",
    "    \n",
    "    # read through lyrics skeleton file\n",
    "    for line in lyrics:\n",
    "        \n",
    "        line_list = line.strip().split(\"::\")\n",
    "        beginning, beginning_beats, ending = line_list[0], int(line_list[1]), line_list[2]\n",
    "        \n",
    "        # the lines with no ending rhyme word\n",
    "        if ending == '':\n",
    "            print beginning\n",
    "            continue\n",
    "        \n",
    "        # lines with a given ending rhyme word\n",
    "        if ending != \"XXX\":\n",
    "            \n",
    "            if beginning == \"\":\n",
    "                print ending\n",
    "            else:\n",
    "                print beginning, ending\n",
    "            \n",
    "            # find the ending tuple of the word (rhyme, beats), set it as latest ending\n",
    "            end_tuple = searchWord(end_dict, ending, beginning_beats)\n",
    "            latest_ending = end_tuple\n",
    "        \n",
    "        # lines where you're searching for ending word\n",
    "        if ending == \"XXX\":\n",
    "            \n",
    "            end_word = searchTuple(end_dict, latest_ending, beginning_beats)\n",
    "            latest_ending = searchWord(end_dict, end_word, beginning_beats)\n",
    "            \n",
    "            print beginning, end_word\n",
    "            \n",
    "    \n",
    "    # close both files\n",
    "    lyrics.close()\n",
    "    endings.close()"
   ]
  },
  {
   "cell_type": "code",
   "execution_count": 99,
   "metadata": {
    "collapsed": false,
    "deletable": true,
    "editable": true
   },
   "outputs": [
    {
     "name": "stdout",
     "output_type": "stream",
     "text": [
      "He took a drag of the eight elements that composed, atmospheric gas\n",
      "'Bout to let off his sword, and full blast\n",
      "Kept his mind focused\n",
      "meditation position half lotus\n",
      "Abbot's sword novas couldn't match his magnum opus\n",
      "Deluxe stroke\n",
      "son move like a ghost\n",
      "Struck in an instance,\n",
      "unnoticed like a lamp post\n",
      "Radar sharp precision gunfire,\n",
      "explode\n",
      "Till his clips unload\n",
      "it's a samurai code\n"
     ]
    }
   ],
   "source": [
    "main()"
   ]
  },
  {
   "cell_type": "code",
   "execution_count": null,
   "metadata": {
    "collapsed": true,
    "deletable": true,
    "editable": true
   },
   "outputs": [],
   "source": []
  }
 ],
 "metadata": {
  "kernelspec": {
   "display_name": "Python 2",
   "language": "python",
   "name": "python2"
  },
  "language_info": {
   "codemirror_mode": {
    "name": "ipython",
    "version": 2
   },
   "file_extension": ".py",
   "mimetype": "text/x-python",
   "name": "python",
   "nbconvert_exporter": "python",
   "pygments_lexer": "ipython2",
   "version": "2.7.13"
  }
 },
 "nbformat": 4,
 "nbformat_minor": 2
}
