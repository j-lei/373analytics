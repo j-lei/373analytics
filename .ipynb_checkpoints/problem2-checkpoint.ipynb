{
 "cells": [
  {
   "cell_type": "code",
   "execution_count": 1,
   "metadata": {},
   "outputs": [
    {
     "name": "stderr",
     "output_type": "stream",
     "text": [
      "C:\\Users\\lcste\\Anaconda2\\lib\\site-packages\\ipykernel_launcher.py:3: DeprecationWarning: the sets module is deprecated\n",
      "  This is separate from the ipykernel package so we can avoid doing imports until\n"
     ]
    }
   ],
   "source": [
    "import pandas as pd\n",
    "pd.set_option('display.max_columns', None)\n",
    "import sets"
   ]
  },
  {
   "cell_type": "code",
   "execution_count": 2,
   "metadata": {
    "collapsed": true
   },
   "outputs": [],
   "source": [
    "def main():\n",
    "    df = pd.read_csv('movies.csv', header=None)\n",
    "    df.set_index(0, inplace = True)\n",
    "    \n",
    "    t = pd.Series()\n",
    "    for i in df.columns.values:\n",
    "        s = pd.Series(df[i])\n",
    "        t = t.append(s)\n",
    "        \n",
    "    mask = t.notnull()\n",
    "    t = t[mask]\n",
    "    t = pd.Series(t.index.values, index = t)\n",
    "    \n",
    "    actors1, actors2, actorsBoth, movie1, movie2 = getActors(t)\n",
    "    \n",
    "    tempstrlist =[]\n",
    "    for x in actorsBoth:\n",
    "        tempstrlist.append(x)\n",
    "    if(len(actorsBoth) != 0):    \n",
    "        print(\"The actors in both \" + movie1 + \" and \" + movie2 + \" are: \" + ', '.join(tempstrlist) )\n",
    "    else:\n",
    "        print(\"There are no actors in both movies.\")\n",
    "    \n",
    "    tempstrlist =[]\n",
    "    for x in actors1:\n",
    "        tempstrlist.append(x)\n",
    "        \n",
    "    if(len(actors1) != 0):    \n",
    "        print(\"The actors only in \" + movie1 + \" are: \" + ', '.join(tempstrlist) )\n",
    "    else:\n",
    "        print(\"There are no actors only in \"+ movie1)\n",
    "    \n",
    "    tempstrlist =[]\n",
    "    for x in actors2:\n",
    "        tempstrlist.append(x)\n",
    "        \n",
    "    if(len(actors2) != 0):    \n",
    "        print(\"The actors only in \" + movie2 + \" are: \" + ', '.join(tempstrlist) )\n",
    "    else:\n",
    "        print(\"There are no actors only in \"+ movie2)"
   ]
  },
  {
   "cell_type": "code",
   "execution_count": 3,
   "metadata": {
    "collapsed": true
   },
   "outputs": [],
   "source": [
    "def getActors(t):\n",
    "    movie1 = raw_input(\"Enter the name of your first movie: \")\n",
    "    \n",
    "    while movie1 not in sets.Set(t.index.values):\n",
    "        print(\"Your movie is not in the database. Please try again.\")\n",
    "        movie1 = raw_input(\"Enter the name of your first movie: \")\n",
    "    \n",
    "    movie2 = raw_input(\"Enter the name of your second movie: \")\n",
    "    \n",
    "    while movie2 not in sets.Set(t.index.values):\n",
    "        print(\"Your movie is not in the database. Please try again.\")\n",
    "        movie2 = raw_input(\"Enter the name of your second movie: \")\n",
    "\n",
    "    first = sets.Set(pd.Series(t[movie1]))\n",
    "    second = sets.Set(pd.Series(t[movie2]))\n",
    "    actors1 = first - second\n",
    "    actors2 = second - first\n",
    "    \n",
    "    actorsBoth = first.intersection(second)\n",
    "    \n",
    "    return actors1, actors2, actorsBoth, movie1, movie2"
   ]
  },
  {
   "cell_type": "code",
   "execution_count": 5,
   "metadata": {},
   "outputs": [
    {
     "name": "stdout",
     "output_type": "stream",
     "text": [
      "Enter the name of your first movie: Troy\n",
      "Enter the name of your second movie: Lara Croft Tomb Raider\n",
      "There are no actors in both movies.\n",
      "The actors only in Troy are: Brad Pitt, Diane Kruger\n",
      "The actors only in Lara Croft Tomb Raider are: Angelina Jolie\n"
     ]
    }
   ],
   "source": [
    "main()"
   ]
  }
 ],
 "metadata": {
  "kernelspec": {
   "display_name": "Python 2",
   "language": "python",
   "name": "python2"
  },
  "language_info": {
   "codemirror_mode": {
    "name": "ipython",
    "version": 2
   },
   "file_extension": ".py",
   "mimetype": "text/x-python",
   "name": "python",
   "nbconvert_exporter": "python",
   "pygments_lexer": "ipython2",
   "version": "2.7.14"
  }
 },
 "nbformat": 4,
 "nbformat_minor": 2
}
