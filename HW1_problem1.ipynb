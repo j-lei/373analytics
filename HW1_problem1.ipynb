{
 "cells": [
  {
   "cell_type": "markdown",
   "metadata": {},
   "source": [
    "## **Functions**  \n",
    "  \n",
    "**Which wins**    \n",
    "Uses dictionary that stores a move as a key, and the move that beats it as the value. Returns the value for input key.  \n",
    "  \n",
    "**Move chooser**  \n",
    "Prior to the player making any moves, the computer will simply generate something random. Once the dictionary has been populated with player moves, this function will play whichever counters the move with the highest count (calling which_wins to find the counter). If two are tied, this funcntion will play whatever is first in the dictionary.  \n",
    "  \n",
    "**Validation**   \n",
    "Checks if the uppercase version of the user input is either \"R\", \"P\", \"S\", or \"-1\". Returns true if so, false if not.  \n",
    "  \n",
    "**Main**  \n",
    "Contains a loop that runs until user enters sentinel value \"-1\" to quit.  \n",
    "Computer calls move_chooser to make a move or quit.  \n",
    "Computer accepts and validates user input.  \n",
    "If user quits, program exits.  \n",
    "Otherwise, computer increments the player move count dictionary according to the move the player made.  \n",
    "Computer checks if user input and computer move are the same. If so, it prints a draw and restarts the loop.  \n",
    "If not, computer calls which_wins on its move to check if it loses to the user input.  If so, it prints \"USER WINS!\" and restarts the loop.  \n",
    "If not, computer prints \"I WIN!\" and restarts the loop.  \n",
    "Upon exit, computer prints total number of games played and the number of games the player won."
   ]
  },
  {
   "cell_type": "code",
   "execution_count": 1,
   "metadata": {},
   "outputs": [],
   "source": [
    "import random"
   ]
  },
  {
   "cell_type": "code",
   "execution_count": 2,
   "metadata": {},
   "outputs": [],
   "source": [
    "def which_wins(move):\n",
    "    \"\"\" Accepts: 1 string of a move played (R, P, or S)  \n",
    "    Returns: 1 string; returns the move that beats the input move (R, P or S)\"\"\"\n",
    "    \n",
    "    # dictionary storing move as key, move that defeats it as value\n",
    "    winDict = {\"R\":\"P\", \"P\":\"S\", \"S\":\"R\"}\n",
    "    return winDict[move]"
   ]
  },
  {
   "cell_type": "code",
   "execution_count": 3,
   "metadata": {},
   "outputs": [],
   "source": [
    "def move_chooser(moveDict):\n",
    "    \"\"\" Accepts: 1 dictionary containing player move counts  \n",
    "    Returns: 1 string with \"R\", \"P\", or \"S,\" representing rock, paper, or scissors move  \"\"\"\n",
    "    \n",
    "    moves = list(moveDict.keys())\n",
    "    numPlayed = list(moveDict.values())\n",
    "    \n",
    "    if max(numPlayed) == 0:\n",
    "        play = random.randint(0, 2)\n",
    "        return moves[play]\n",
    "    else:\n",
    "        counter = which_wins(moves[numPlayed.index(max(numPlayed))])\n",
    "        return counter"
   ]
  },
  {
   "cell_type": "code",
   "execution_count": 4,
   "metadata": {},
   "outputs": [],
   "source": [
    "def validate(entry):\n",
    "    \"\"\" Accepts: 1 string containing user input  \n",
    "    Returns: 1 bool of whether the input is valid or not \"\"\"\n",
    "    \n",
    "    try:\n",
    "        entry = entry.upper()\n",
    "        if entry in {\"R\", \"P\", \"S\", \"-1\"}:\n",
    "            return True\n",
    "        else:\n",
    "            return False\n",
    "    except:\n",
    "        return False"
   ]
  },
  {
   "cell_type": "code",
   "execution_count": 5,
   "metadata": {},
   "outputs": [],
   "source": [
    "def main():\n",
    "    \n",
    "    # initalize user move dictionary and counts\n",
    "    moveDict = {\"R\":0, \"P\":0, \"S\":0}\n",
    "    gamesPlayed = 0\n",
    "    playerWins = 0\n",
    "    \n",
    "    # generate computer move\n",
    "    move = move_chooser(moveDict)\n",
    "    \n",
    "    # accept and validate input\n",
    "    userInput = raw_input(\"Welcome to Rock, Paper, Scissors! Press R to play Rock, P to play Paper, or S to play Scissors. Press -1 to quit. \")\n",
    "    while (validate(userInput) == False):\n",
    "        userInput = raw_input(\"Invalid input. Please choose R to play Rock, P to play Paper, or S to play Scissors. Press -1 to quit. \")\n",
    "    \n",
    "    # start game loop\n",
    "    while (userInput != \"-1\"):\n",
    "        \n",
    "        gamesPlayed += 1        \n",
    "        moveDict[userInput.upper()] += 1\n",
    "        \n",
    "        # results\n",
    "        if userInput.upper() == move:\n",
    "            print \"We both played\", move, \"so it's a tie! Play again?\"\n",
    "            print\n",
    "        elif which_wins(move) == userInput.upper():\n",
    "            print userInput.upper(), \"beats\", move, \"so you win! Play again?\"\n",
    "            playerWins += 1\n",
    "            print\n",
    "        else:\n",
    "            print move, \"beats\", userInput.upper(), \"so I win! Play again?\"\n",
    "            print\n",
    "        \n",
    "        # new computer move\n",
    "        move = move_chooser(moveDict)\n",
    "        \n",
    "        # accept and validate input\n",
    "        userInput = raw_input(\"Press R to play Rock, P to play Paper, or S to play Scissors. Press -1 to quit. \")\n",
    "        while (validate(userInput) == False):\n",
    "            userInput = raw_input(\"Invalid input. Please choose R to play Rock, P to play Paper, or S to play Scissors. Press -1 to quit. \")\n",
    "    \n",
    "    # final messages upon exit\n",
    "    print\n",
    "    print \"Thanks for playing!\"\n",
    "    print \"Games played:\", gamesPlayed\n",
    "    print \"Games you won:\", playerWins\n"
   ]
  },
  {
   "cell_type": "code",
   "execution_count": 6,
   "metadata": {},
   "outputs": [
    {
     "name": "stdout",
     "output_type": "stream",
     "text": [
      "Welcome to Rock, Paper, Scissors! Press R to play Rock, P to play Paper, or S to play Scissors. Press -1 to quit. abc\n",
      "Invalid input. Please choose R to play Rock, P to play Paper, or S to play Scissors. Press -1 to quit. -100\n",
      "Invalid input. Please choose R to play Rock, P to play Paper, or S to play Scissors. Press -1 to quit. g\n",
      "Invalid input. Please choose R to play Rock, P to play Paper, or S to play Scissors. Press -1 to quit. r\n",
      "P beats R so I win! Play again?\n",
      "\n",
      "Press R to play Rock, P to play Paper, or S to play Scissors. Press -1 to quit. r\n",
      "P beats R so I win! Play again?\n",
      "\n",
      "Press R to play Rock, P to play Paper, or S to play Scissors. Press -1 to quit. s\n",
      "S beats P so you win! Play again?\n",
      "\n",
      "Press R to play Rock, P to play Paper, or S to play Scissors. Press -1 to quit. s\n",
      "S beats P so you win! Play again?\n",
      "\n",
      "Press R to play Rock, P to play Paper, or S to play Scissors. Press -1 to quit. s\n",
      "R beats S so I win! Play again?\n",
      "\n",
      "Press R to play Rock, P to play Paper, or S to play Scissors. Press -1 to quit. p\n",
      "P beats R so you win! Play again?\n",
      "\n",
      "Press R to play Rock, P to play Paper, or S to play Scissors. Press -1 to quit. p\n",
      "P beats R so you win! Play again?\n",
      "\n",
      "Press R to play Rock, P to play Paper, or S to play Scissors. Press -1 to quit. p\n",
      "P beats R so you win! Play again?\n",
      "\n",
      "Press R to play Rock, P to play Paper, or S to play Scissors. Press -1 to quit. p\n",
      "S beats P so I win! Play again?\n",
      "\n",
      "Press R to play Rock, P to play Paper, or S to play Scissors. Press -1 to quit. -1\n",
      "\n",
      "Thanks for playing!\n",
      "Games played: 9\n",
      "Games you won: 5\n"
     ]
    }
   ],
   "source": [
    "main()"
   ]
  },
  {
   "cell_type": "code",
   "execution_count": null,
   "metadata": {},
   "outputs": [],
   "source": []
  }
 ],
 "metadata": {
  "kernelspec": {
   "display_name": "Python 2",
   "language": "python",
   "name": "python2"
  },
  "language_info": {
   "codemirror_mode": {
    "name": "ipython",
    "version": 2
   },
   "file_extension": ".py",
   "mimetype": "text/x-python",
   "name": "python",
   "nbconvert_exporter": "python",
   "pygments_lexer": "ipython2",
   "version": "2.7.14"
  }
 },
 "nbformat": 4,
 "nbformat_minor": 2
}
